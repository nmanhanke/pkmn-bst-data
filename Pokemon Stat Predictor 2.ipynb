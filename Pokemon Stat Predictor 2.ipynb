{
 "cells": [
  {
   "cell_type": "markdown",
   "metadata": {},
   "source": [
    "# Pokemon Stat Predictor"
   ]
  },
  {
   "cell_type": "markdown",
   "metadata": {},
   "source": [
    "## Methodology"
   ]
  },
  {
   "cell_type": "markdown",
   "metadata": {},
   "source": [
    "#### Introduction\n",
    "\n",
    "This is a project that takes known data about Pokemon species from the Pokemon video games and creates a database of average stats based on typing. The data is formatted to look at the Base Stat Totals (BST) of Pokemon species, cross-comparing with the typing of a Pokemon as well as its evolutionary stage.\n",
    "\n",
    "The data used for this project was imported from Bulbapedia (https://bulbapedia.bulbgarden.net) and encorporates Pokemon through generation VII. Bulbapedia was chosen for its large number of html tables on Pokemon and for its mostly consistent formatting across the site.\n",
    "\n",
    "There are several areas where we have to clean or reformat the data to ensure that we are not losing key pieces of information. More detail on those instances is given next to the code that cleans the data.\n",
    "\n",
    "This notebook contains examples of webscraping, data cleaning, use of pandas dataframes, and chart generation with seaborn.\n",
    "\n",
    "This notebook project was inspired by this post from Medium on building a Pokedex: https://towardsdatascience.com/web-scraping-html-tables-with-python-c9baba21059"
   ]
  },
  {
   "cell_type": "markdown",
   "metadata": {},
   "source": [
    "#### Exclusions from the dataset (Pokemon domain knowledge)\n",
    "\n",
    "At the start of this project, I knew I wanted to exclude Mega Pokemon from my calculations. Mega Pokemon, introduced in Gen VI, have inflated stats compared to non-mega pokemon and would skew the data towards those species or type combinations that have received Mega Evolutions.\n",
    "\n",
    "I also made the choice to include all Alolan variant Pokemon. These are Pokemon species from Gen I that have been given new type combinations in Gen VII. I believe this increases the overall diversity of type combinations.\n",
    "\n",
    "After exploring the data, I also decided to remove the following data points from my data sets:\n",
    "\n",
    "* Ultra Beasts - introduced in Gen VII, these pokemon have high BSTs (570) and, like Mega Pokemon, skew averages towards those type combinations that have received Ultra Beasts.\n",
    "\n",
    "* Legendary Pokemon - there are two complications with Legendary Pokemon. First, like Mega Pokemon and Ultra Beasts, they have high stats (BSTs at 600 or higher). Second, there is a subset of Legendary Pokemon that have a value of 100 for each of their stats (Mew, Celebi, Jirachi, etc); the lack of variance in the individual stats and trend towards Psychic-Type would make analyzing the data difficult.\n",
    "\n",
    "* Special Pokemon - over the course of generations, special variants have been added. These include Partner Pikachu and Partner Eevee from the Let's Go games and the Ash-Greninja.\n",
    "\n",
    "For all other variants (Wormadam, Rotom, Aegislash, etc), I have left them in the data to represent the full data set as accurately as possible."
   ]
  },
  {
   "cell_type": "markdown",
   "metadata": {},
   "source": [
    "## Imports and Functions"
   ]
  },
  {
   "cell_type": "code",
   "execution_count": 74,
   "metadata": {},
   "outputs": [],
   "source": [
    "#imports\n",
    "from lxml import html\n",
    "import requests\n",
    "import re\n",
    "import pandas as pd\n",
    "import seaborn as sns\n",
    "import numpy as np\n",
    "\n",
    "#do I use this in the notebook???\n",
    "from matplotlib import pyplot"
   ]
  },
  {
   "cell_type": "code",
   "execution_count": 75,
   "metadata": {},
   "outputs": [],
   "source": [
    "#Function  for cleaning bulbapedia tables.\n",
    "#This function definition needs to be cleaned up!\n",
    "def bulbapedia_table_cleaner(input_lst):\n",
    "    '''This function takes tr data separated by newline characters and modifies it into a comma separated\n",
    "    Takes tr data from bulbapedia format and returns a dataframe.\n",
    "    Expects a list to be turned into list of lists to be turned into df rows.\n",
    "    input_lst: list with tr data. Should be a list with elements separated by commas.'''\n",
    "    middle_lst = []\n",
    "    last_lst = []\n",
    "    for el in input_lst:\n",
    "        cleaned = el.replace('\\n\\n ', ',')\n",
    "        cleaned_2 = cleaned.replace(',,', ',')\n",
    "        cleaned_3 = cleaned_2.replace('\\n', '')\n",
    "\n",
    "        middle_lst.append(cleaned_3)\n",
    "\n",
    "    for el in middle_lst:\n",
    "        split = el.split(',')\n",
    "        last_lst.append(split)\n",
    "    \n",
    "    output_df = pd.DataFrame(last_lst)\n",
    "\n",
    "    return output_df"
   ]
  },
  {
   "cell_type": "code",
   "execution_count": 76,
   "metadata": {},
   "outputs": [],
   "source": [
    "#copied from below. Make sure to delete the extra cell if needed!\n",
    "def bulbapedia_form_finder(row):\n",
    "    if row['Variant'] == None:\n",
    "        value = row['Pokemon']\n",
    "    elif \"Mega\" in row['Variant']:\n",
    "        value = \"Mega\"\n",
    "    elif \"Alolan\" in row['Variant']:\n",
    "        value = \"Alolan \"+row['Pokemon']\n",
    "    elif \"Wormdam\" in row['Pokemon']:\n",
    "        value = row['Pokemon']+row['Variant'].str.split(' ')\n",
    "    else:\n",
    "        value = row['Pokemon']\n",
    "    return value"
   ]
  },
  {
   "cell_type": "code",
   "execution_count": 77,
   "metadata": {},
   "outputs": [],
   "source": [
    "#copied from below. Make sure to delete the extra cell if needed!\n",
    "def makes_list_of_lists(input_lst):\n",
    "    output_list = []\n",
    "\n",
    "    for el in input_lst:\n",
    "        list_split = el.split(\",\")\n",
    "        output_list.append(list_split)\n",
    "    return output_list"
   ]
  },
  {
   "cell_type": "markdown",
   "metadata": {},
   "source": [
    "## Gathering Data"
   ]
  },
  {
   "cell_type": "markdown",
   "metadata": {},
   "source": [
    "#### Constructing the First Table (BST)"
   ]
  },
  {
   "cell_type": "markdown",
   "metadata": {},
   "source": [
    "This is our primary table for the analysis - it holds a list of each Pokemon species and the numeric values for their stats (HP, Attack, Defense, Special Attack, Special Defense, and Speed) as well as the sum of their stats (the Base Stat Total, or BST) and their average stat value."
   ]
  },
  {
   "cell_type": "code",
   "execution_count": 78,
   "metadata": {},
   "outputs": [],
   "source": [
    "#First Table Download\n",
    "url = 'https://bulbapedia.bulbagarden.net/wiki/List_of_Pok%C3%A9mon_by_base_stats_(Generation_VII-present)'\n",
    "page = requests.get(url)\n",
    "tree = html.fromstring(page.content)"
   ]
  },
  {
   "cell_type": "markdown",
   "metadata": {},
   "source": [
    "You need a bit of HTML experience to identify the elements you want to scrape using the requests and html packages. This is a screen shot of the elements on the webpage above, showing us that we are interested in the \"tr\" elements\n",
    "\n",
    "<img src=\"C:\\Users\\nmanh\\OneDrive\\Desktop\\bulbapedia pokemon bst inspect element.png\",width=250,height=250>"
   ]
  },
  {
   "cell_type": "code",
   "execution_count": 79,
   "metadata": {},
   "outputs": [],
   "source": [
    "#Parse tr elements of the HTML for your page\n",
    "tr_elements = tree.xpath('//tr')"
   ]
  },
  {
   "cell_type": "code",
   "execution_count": 80,
   "metadata": {},
   "outputs": [
    {
     "data": {
      "text/plain": [
       "[1, 11, 11, 11, 11, 11, 11, 11, 11, 11, 11, 11]"
      ]
     },
     "execution_count": 80,
     "metadata": {},
     "output_type": "execute_result"
    }
   ],
   "source": [
    "#Checks for element length. Helps determine if you scraped more than one table (<tr> element) from the webpage.\n",
    "#I checked the first 12 and last 12 elements of the table. You can un-comment out the below lines to \n",
    "# see the length of the elements. Based on this sampling, it looks like the length of 11 is the main\n",
    "# main table from our website.\n",
    "[len(el) for el in tr_elements[:12]]\n",
    "#[len(el) for el in tr_elements[-13:-1]]"
   ]
  },
  {
   "cell_type": "code",
   "execution_count": 81,
   "metadata": {},
   "outputs": [],
   "source": [
    "pkmn_bst_table_rows = []\n",
    "\n",
    "for el in tr_elements:\n",
    "    if len(el) == 11:\n",
    "        row = el.text_content()\n",
    "        pkmn_bst_table_rows.append(row)"
   ]
  },
  {
   "cell_type": "code",
   "execution_count": null,
   "metadata": {},
   "outputs": [],
   "source": [
    "#Run this cell to see the default text in the table from Bulbapedia.\n",
    "#You should see a lot of newline characters (\\n), which is how Bulbapedia separates the cells of its table. \n",
    "#The bulbapedia_table_cleaner function is designed to specifically clean up a table with these characters.\n",
    "pkmn_bst_table_rows"
   ]
  },
  {
   "cell_type": "code",
   "execution_count": 82,
   "metadata": {},
   "outputs": [],
   "source": [
    "#Declare new, empty dataframe for function\n",
    "pkmn_bst_df = pd.DataFrame()"
   ]
  },
  {
   "cell_type": "code",
   "execution_count": 83,
   "metadata": {},
   "outputs": [],
   "source": [
    "pkmn_bst_df = bulbapedia_table_cleaner(pkmn_bst_table_rows)"
   ]
  },
  {
   "cell_type": "code",
   "execution_count": null,
   "metadata": {},
   "outputs": [],
   "source": [
    "pkmn_bst_df.head()"
   ]
  },
  {
   "cell_type": "code",
   "execution_count": 84,
   "metadata": {},
   "outputs": [],
   "source": [
    "#Update the df to get the column headers formatted cleanly\n",
    "\n",
    "#update all text data to lowercase\n",
    "pkmn_bst_df = pkmn_bst_df.apply(lambda row: row.astype(str).str.lower())\n",
    "\n",
    "#Promote first row of df to headers\n",
    "header_row = pkmn_bst_df.iloc[0]\n",
    "pkmn_bst_df = pkmn_bst_df[1:]\n",
    "pkmn_bst_df.columns = header_row\n",
    "\n",
    "#rename column to remove special é character in Pokémon\n",
    "pkmn_bst_df.rename(columns = {\n",
    "    \"pokémon\":\"pokemon\"\n",
    "}, inplace=True)"
   ]
  },
  {
   "cell_type": "code",
   "execution_count": 85,
   "metadata": {},
   "outputs": [
    {
     "data": {
      "text/html": [
       "<div>\n",
       "<style scoped>\n",
       "    .dataframe tbody tr th:only-of-type {\n",
       "        vertical-align: middle;\n",
       "    }\n",
       "\n",
       "    .dataframe tbody tr th {\n",
       "        vertical-align: top;\n",
       "    }\n",
       "\n",
       "    .dataframe thead th {\n",
       "        text-align: right;\n",
       "    }\n",
       "</style>\n",
       "<table border=\"1\" class=\"dataframe\">\n",
       "  <thead>\n",
       "    <tr style=\"text-align: right;\">\n",
       "      <th></th>\n",
       "      <th>#</th>\n",
       "      <th>pokemon</th>\n",
       "      <th>hp</th>\n",
       "      <th>attack</th>\n",
       "      <th>defense</th>\n",
       "      <th>sp. attack</th>\n",
       "      <th>sp. defense</th>\n",
       "      <th>speed</th>\n",
       "      <th>total</th>\n",
       "      <th>average</th>\n",
       "    </tr>\n",
       "  </thead>\n",
       "  <tbody>\n",
       "    <tr>\n",
       "      <th>1</th>\n",
       "      <td>001</td>\n",
       "      <td>bulbasaur</td>\n",
       "      <td>45</td>\n",
       "      <td>49</td>\n",
       "      <td>49</td>\n",
       "      <td>65</td>\n",
       "      <td>65</td>\n",
       "      <td>45</td>\n",
       "      <td>318</td>\n",
       "      <td>53</td>\n",
       "    </tr>\n",
       "    <tr>\n",
       "      <th>2</th>\n",
       "      <td>002</td>\n",
       "      <td>ivysaur</td>\n",
       "      <td>60</td>\n",
       "      <td>62</td>\n",
       "      <td>63</td>\n",
       "      <td>80</td>\n",
       "      <td>80</td>\n",
       "      <td>60</td>\n",
       "      <td>405</td>\n",
       "      <td>67.5</td>\n",
       "    </tr>\n",
       "    <tr>\n",
       "      <th>3</th>\n",
       "      <td>003</td>\n",
       "      <td>venusaur</td>\n",
       "      <td>80</td>\n",
       "      <td>82</td>\n",
       "      <td>83</td>\n",
       "      <td>100</td>\n",
       "      <td>100</td>\n",
       "      <td>80</td>\n",
       "      <td>525</td>\n",
       "      <td>87.5</td>\n",
       "    </tr>\n",
       "    <tr>\n",
       "      <th>4</th>\n",
       "      <td>003</td>\n",
       "      <td>venusaur (mega venusaur)</td>\n",
       "      <td>80</td>\n",
       "      <td>100</td>\n",
       "      <td>123</td>\n",
       "      <td>122</td>\n",
       "      <td>120</td>\n",
       "      <td>80</td>\n",
       "      <td>625</td>\n",
       "      <td>104.17</td>\n",
       "    </tr>\n",
       "    <tr>\n",
       "      <th>5</th>\n",
       "      <td>004</td>\n",
       "      <td>charmander</td>\n",
       "      <td>39</td>\n",
       "      <td>52</td>\n",
       "      <td>43</td>\n",
       "      <td>60</td>\n",
       "      <td>50</td>\n",
       "      <td>65</td>\n",
       "      <td>309</td>\n",
       "      <td>51.5</td>\n",
       "    </tr>\n",
       "  </tbody>\n",
       "</table>\n",
       "</div>"
      ],
      "text/plain": [
       "0     #                   pokemon  hp attack defense sp. attack sp. defense  \\\n",
       "1   001                 bulbasaur  45     49      49         65          65   \n",
       "2   002                   ivysaur  60     62      63         80          80   \n",
       "3   003                  venusaur  80     82      83        100         100   \n",
       "4   003  venusaur (mega venusaur)  80    100     123        122         120   \n",
       "5   004                charmander  39     52      43         60          50   \n",
       "\n",
       "0 speed total average  \n",
       "1    45   318      53  \n",
       "2    60   405    67.5  \n",
       "3    80   525    87.5  \n",
       "4    80   625  104.17  \n",
       "5    65   309    51.5  "
      ]
     },
     "execution_count": 85,
     "metadata": {},
     "output_type": "execute_result"
    }
   ],
   "source": [
    "pkmn_bst_df.head()"
   ]
  },
  {
   "cell_type": "markdown",
   "metadata": {},
   "source": [
    "#### Constructing the Second Table (Evolutionary Stage)"
   ]
  },
  {
   "cell_type": "markdown",
   "metadata": {},
   "source": [
    "Pokemon go through a process known as \"evolution\" by which they transform into new species. As Pokemon evolve, their stats increase. Because of this, we want to know where in the evolutionary chain each Pokemon species is.\n",
    "\n",
    "I was unable to find a source of this information in an extractable format online, so I generated my own table. I used the following stages in my classification: baby, basic, stage 1, stage 2, mega, legendary, ultra beast.\n",
    "\n",
    "I used the same BST table as my starting point to ensure I would have an exact match for each row in my first table."
   ]
  },
  {
   "cell_type": "code",
   "execution_count": 86,
   "metadata": {},
   "outputs": [],
   "source": [
    "#open csv file with Pokemon stage data\n",
    "stages_raw = open(\"pokemon stages.csv\", \"r\")\n",
    "stages_read = stages_raw.read()\n",
    "stages_split = stages_read.split(\"\\n\")"
   ]
  },
  {
   "cell_type": "code",
   "execution_count": 87,
   "metadata": {},
   "outputs": [
    {
     "data": {
      "text/plain": [
       "['dex #,Pokemon,Stage',\n",
       " '1,Bulbasaur,basic',\n",
       " '2,Ivysaur,stage 1',\n",
       " '3,Venusaur,stage 2',\n",
       " '3,Venusaur (Mega Venusaur),mega',\n",
       " '4,Charmander,basic',\n",
       " '5,Charmeleon,stage 1',\n",
       " '6,Charizard,stage 2',\n",
       " '6,Charizard (Mega Charizard X),mega',\n",
       " '6,Charizard (Mega Charizard Y),mega',\n",
       " '7,Squirtle,basic',\n",
       " '8,Wartortle,stage 1',\n",
       " '9,Blastoise,stage 2',\n",
       " '9,Blastoise (Mega Blastoise),mega',\n",
       " '10,Caterpie,basic',\n",
       " '11,Metapod,stage 1',\n",
       " '12,Butterfree,stage 2',\n",
       " '13,Weedle,basic',\n",
       " '14,Kakuna,stage 1',\n",
       " '15,Beedrill,stage 2',\n",
       " '15,Beedrill (Mega Beedrill),mega',\n",
       " '16,Pidgey,basic',\n",
       " '17,Pidgeotto,stage 1',\n",
       " '18,Pidgeot,stage 2',\n",
       " '18,Pidgeot (Mega Pidgeot),mega',\n",
       " '19,Rattata,basic',\n",
       " '19,Rattata (Alolan Rattata),basic',\n",
       " '20,Raticate,stage 1',\n",
       " '20,Raticate (Alolan Raticate),stage 1',\n",
       " '21,Spearow,basic',\n",
       " '22,Fearow,stage 1',\n",
       " '23,Ekans,basic',\n",
       " '24,Arbok,stage 1',\n",
       " '25,Pikachu,basic',\n",
       " '25,Pikachu (Partner Pikachu),basic',\n",
       " '26,Raichu,stage 1',\n",
       " '26,Raichu (Alolan Raichu),stage 1',\n",
       " '27,Sandshrew,basic',\n",
       " '27,Sandshrew (Alolan Sandshrew),basic',\n",
       " '28,Sandslash,stage 1',\n",
       " '28,Sandslash (Alolan Sandslash),stage 1',\n",
       " '29,Nidoranâ™€,basic',\n",
       " '30,Nidorina,stage 1',\n",
       " '31,Nidoqueen,stage 2',\n",
       " '32,Nidoranâ™‚,basic',\n",
       " '33,Nidorino,stage 1',\n",
       " '34,Nidoking,stage 2',\n",
       " '35,Clefairy,basic',\n",
       " '36,Clefable,stage 1',\n",
       " '37,Vulpix,basic',\n",
       " '37,Vulpix (Alolan Vulpix),basic',\n",
       " '38,Ninetales,stage 1',\n",
       " '38,Ninetales (Alolan Ninetales),stage 1',\n",
       " '39,Jigglypuff,basic',\n",
       " '40,Wigglytuff,stage 1',\n",
       " '41,Zubat,basic',\n",
       " '42,Golbat,stage 1',\n",
       " '43,Oddish,basic',\n",
       " '44,Gloom,stage 1',\n",
       " '45,Vileplume,stage 2',\n",
       " '46,Paras,basic',\n",
       " '47,Parasect,stage 1',\n",
       " '48,Venonat,basic',\n",
       " '49,Venomoth,stage 1',\n",
       " '50,Diglett,basic',\n",
       " '50,Diglett (Alolan Diglett),basic',\n",
       " '51,Dugtrio,stage 1',\n",
       " '51,Dugtrio (Alolan Dugtrio),stage 1',\n",
       " '52,Meowth,basic',\n",
       " '52,Meowth (Alolan Meowth),basic',\n",
       " '53,Persian,stage 1',\n",
       " '53,Persian (Alolan Persian),stage 1',\n",
       " '54,Psyduck,basic',\n",
       " '55,Golduck,stage 1',\n",
       " '56,Mankey,basic',\n",
       " '57,Primeape,stage 1',\n",
       " '58,Growlithe,basic',\n",
       " '59,Arcanine,stage 1',\n",
       " '60,Poliwag,basic',\n",
       " '61,Poliwhirl,stage 1',\n",
       " '62,Poliwrath,stage 2',\n",
       " '63,Abra,basic',\n",
       " '64,Kadabra,stage 1',\n",
       " '65,Alakazam,stage 2',\n",
       " '65,Alakazam (Mega Alakazam),mega',\n",
       " '66,Machop,basic',\n",
       " '67,Machoke,stage 1',\n",
       " '68,Machamp,stage 2',\n",
       " '69,Bellsprout,basic',\n",
       " '70,Weepinbell,stage 1',\n",
       " '71,Victreebel,stage 2',\n",
       " '72,Tentacool,basic',\n",
       " '73,Tentacruel,stage 1',\n",
       " '74,Geodude,basic',\n",
       " '74,Geodude (Alolan Geodude),basic',\n",
       " '75,Graveler,stage 1',\n",
       " '75,Graveler (Alolan Graveler),stage 1',\n",
       " '76,Golem,stage 2',\n",
       " '76,Golem (Alolan Golem),stage 2',\n",
       " '77,Ponyta,basic',\n",
       " '78,Rapidash,stage 1',\n",
       " '79,Slowpoke,basic',\n",
       " '80,Slowbro,stage 1',\n",
       " '80,Slowbro (Mega Slowbro),mega',\n",
       " '81,Magnemite,basic',\n",
       " '82,Magneton,stage 1',\n",
       " \"83,Farfetch'd,basic\",\n",
       " '84,Doduo,basic',\n",
       " '85,Dodrio,stage 1',\n",
       " '86,Seel,basic',\n",
       " '87,Dewgong,stage 1',\n",
       " '88,Grimer,basic',\n",
       " '88,Grimer (Alolan Grimer),basic',\n",
       " '89,Muk,stage 1',\n",
       " '89,Muk (Alolan Muk),stage 1',\n",
       " '90,Shellder,basic',\n",
       " '91,Cloyster,stage 1',\n",
       " '92,Gastly,basic',\n",
       " '93,Haunter,stage 1',\n",
       " '94,Gengar,stage 2',\n",
       " '94,Gengar (Mega Gengar),mega',\n",
       " '95,Onix,basic',\n",
       " '96,Drowzee,basic',\n",
       " '97,Hypno,stage 1',\n",
       " '98,Krabby,basic',\n",
       " '99,Kingler,stage 1',\n",
       " '100,Voltorb,basic',\n",
       " '101,Electrode,stage 1',\n",
       " '102,Exeggcute,basic',\n",
       " '103,Exeggutor,stage 1',\n",
       " '103,Exeggutor (Alolan Exeggutor),stage 1',\n",
       " '104,Cubone,basic',\n",
       " '105,Marowak,stage 1',\n",
       " '105,Marowak (Alolan Marowak),stage 1',\n",
       " '106,Hitmonlee,basic',\n",
       " '107,Hitmonchan,basic',\n",
       " '108,Lickitung,basic',\n",
       " '109,Koffing,basic',\n",
       " '110,Weezing,stage 1',\n",
       " '111,Rhyhorn,basic',\n",
       " '112,Rhydon,stage 1',\n",
       " '113,Chansey,basic',\n",
       " '114,Tangela,basic',\n",
       " '115,Kangaskhan,basic',\n",
       " '115,Kangaskhan (Mega Kangaskhan),mega',\n",
       " '116,Horsea,basic',\n",
       " '117,Seadra,stage 1',\n",
       " '118,Goldeen,basic',\n",
       " '119,Seaking,stage 1',\n",
       " '120,Staryu,basic',\n",
       " '121,Starmie,stage 1',\n",
       " '122,Mr. Mime,basic',\n",
       " '123,Scyther,basic',\n",
       " '124,Jynx,basic',\n",
       " '125,Electabuzz,basic',\n",
       " '126,Magmar,basic',\n",
       " '127,Pinsir,basic',\n",
       " '127,Pinsir (Mega Pinsir),mega',\n",
       " '128,Tauros,basic',\n",
       " '129,Magikarp,basic',\n",
       " '130,Gyarados,stage 1',\n",
       " '130,Gyarados (Mega Gyarados),mega',\n",
       " '131,Lapras,basic',\n",
       " '132,Ditto,basic',\n",
       " '133,Eevee,basic',\n",
       " '133,Eevee (Partner Eevee),basic',\n",
       " '134,Vaporeon,stage 1',\n",
       " '135,Jolteon,stage 1',\n",
       " '136,Flareon,stage 1',\n",
       " '137,Porygon,basic',\n",
       " '138,Omanyte,basic',\n",
       " '139,Omastar,stage 1',\n",
       " '140,Kabuto,basic',\n",
       " '141,Kabutops,stage 1',\n",
       " '142,Aerodactyl,basic',\n",
       " '142,Aerodactyl (Mega Aerodactyl),mega',\n",
       " '143,Snorlax,basic',\n",
       " '144,Articuno,legendary',\n",
       " '145,Zapdos,legendary',\n",
       " '146,Moltres,legendary',\n",
       " '147,Dratini,basic',\n",
       " '148,Dragonair,stage 1',\n",
       " '149,Dragonite,stage 2',\n",
       " '150,Mewtwo,legendary',\n",
       " '150,Mewtwo (Mega Mewtwo X),mega',\n",
       " '150,Mewtwo (Mega Mewtwo Y),mega',\n",
       " '151,Mew,legendary',\n",
       " '152,Chikorita,basic',\n",
       " '153,Bayleef,stage 1',\n",
       " '154,Meganium,stage 2',\n",
       " '155,Cyndaquil,basic',\n",
       " '156,Quilava,stage 1',\n",
       " '157,Typhlosion,stage 2',\n",
       " '158,Totodile,basic',\n",
       " '159,Croconaw,stage 1',\n",
       " '160,Feraligatr,stage 2',\n",
       " '161,Sentret,basic',\n",
       " '162,Furret,stage 1',\n",
       " '163,Hoothoot,basic',\n",
       " '164,Noctowl,stage 1',\n",
       " '165,Ledyba,basic',\n",
       " '166,Ledian,stage 1',\n",
       " '167,Spinarak,basic',\n",
       " '168,Ariados,stage 1',\n",
       " '169,Crobat,stage 2',\n",
       " '170,Chinchou,basic',\n",
       " '171,Lanturn,stage 1',\n",
       " '172,Pichu,baby',\n",
       " '173,Cleffa,baby',\n",
       " '174,Igglybuff,baby',\n",
       " '175,Togepi,baby',\n",
       " '176,Togetic,basic',\n",
       " '177,Natu,basic',\n",
       " '178,Xatu,stage 1',\n",
       " '179,Mareep,basic',\n",
       " '180,Flaaffy,stage 1',\n",
       " '181,Ampharos,stage 2',\n",
       " '181,Ampharos (Mega Ampharos),mega',\n",
       " '182,Bellossom,stage 2',\n",
       " '183,Marill,basic',\n",
       " '184,Azumarill,stage 1',\n",
       " '185,Sudowoodo,basic',\n",
       " '186,Politoed,stage 2',\n",
       " '187,Hoppip,basic',\n",
       " '188,Skiploom,stage 1',\n",
       " '189,Jumpluff,stage 2',\n",
       " '190,Aipom,basic',\n",
       " '191,Sunkern,stage 1',\n",
       " '192,Sunflora,stage 2',\n",
       " '193,Yanma,basic',\n",
       " '194,Wooper,basic',\n",
       " '195,Quagsire,stage 1',\n",
       " '196,Espeon,stage 1',\n",
       " '197,Umbreon,stage 1',\n",
       " '198,Murkrow,basic',\n",
       " '199,Slowking,stage 1',\n",
       " '200,Misdreavus,basic',\n",
       " '201,Unown,basic',\n",
       " '202,Wobbuffet,basic',\n",
       " '203,Girafarig,basic',\n",
       " '204,Pineco,basic',\n",
       " '205,Forretress,stage 1',\n",
       " '206,Dunsparce,basic',\n",
       " '207,Gligar,basic',\n",
       " '208,Steelix,stage 1',\n",
       " '208,Steelix (Mega Steelix),mega',\n",
       " '209,Snubbull,basic',\n",
       " '210,Granbull,stage 1',\n",
       " '211,Qwilfish,basic',\n",
       " '212,Scizor,stage 1',\n",
       " '212,Scizor (Mega Scizor),mega',\n",
       " '213,Shuckle,basic',\n",
       " '214,Heracross,basic',\n",
       " '214,Heracross (Mega Heracross),mega',\n",
       " '215,Sneasel,basic',\n",
       " '216,Teddiursa,basic',\n",
       " '217,Ursaring,stage 1',\n",
       " '218,Slugma,basic',\n",
       " '219,Magcargo,stage 1',\n",
       " '220,Swinub,basic',\n",
       " '221,Piloswine,stage 1',\n",
       " '222,Corsola,basic',\n",
       " '223,Remoraid,basic',\n",
       " '224,Octillery,stage 1',\n",
       " '225,Delibird,basic',\n",
       " '226,Mantine,basic',\n",
       " '227,Skarmory,basic',\n",
       " '228,Houndour,basic',\n",
       " '229,Houndoom,stage 1',\n",
       " '229,Houndoom (Mega Houndoom),mega',\n",
       " '230,Kingdra,stage 2',\n",
       " '231,Phanpy,basic',\n",
       " '232,Donphan,stage 1',\n",
       " '233,Porygon2,stage 1',\n",
       " '234,Stantler,basic',\n",
       " '235,Smeargle,basic',\n",
       " '236,Tyrogue,baby',\n",
       " '237,Hitmontop,basic',\n",
       " '238,Smoochum,baby',\n",
       " '239,Elekid,baby',\n",
       " '240,Magby,baby',\n",
       " '241,Miltank,basic',\n",
       " '242,Blissey,stage 1',\n",
       " '243,Raikou,legendary',\n",
       " '244,Entei,legendary',\n",
       " '245,Suicune,legendary',\n",
       " '246,Larvitar,basic',\n",
       " '247,Pupitar,stage 1',\n",
       " '248,Tyranitar,stage 2',\n",
       " '248,Tyranitar (Mega Tyranitar),mega',\n",
       " '249,Lugia,legendary',\n",
       " '250,Ho-Oh,legendary',\n",
       " '251,Celebi,legendary',\n",
       " '252,Treecko,basic',\n",
       " '253,Grovyle,stage 1',\n",
       " '254,Sceptile,stage 2',\n",
       " '254,Sceptile (Mega Sceptile),mega',\n",
       " '255,Torchic,basic',\n",
       " '256,Combusken,stage 1',\n",
       " '257,Blaziken,stage 2',\n",
       " '257,Blaziken (Mega Blaziken),mega',\n",
       " '258,Mudkip,basic',\n",
       " '259,Marshtomp,stage 1',\n",
       " '260,Swampert,stage 2',\n",
       " '260,Swampert (Mega Swampert),mega',\n",
       " '261,Poochyena,basic',\n",
       " '262,Mightyena,stage 1',\n",
       " '263,Zigzagoon,basic',\n",
       " '264,Linoone,stage 1',\n",
       " '265,Wurmple,basic',\n",
       " '266,Silcoon,stage 1',\n",
       " '267,Beautifly,stage 2',\n",
       " '268,Cascoon,stage 1',\n",
       " '269,Dustox,stage 2',\n",
       " '270,Lotad,basic',\n",
       " '271,Lombre,stage 1',\n",
       " '272,Ludicolo,stage 2',\n",
       " '273,Seedot,basic',\n",
       " '274,Nuzleaf,stage 1',\n",
       " '275,Shiftry,stage 2',\n",
       " '276,Taillow,basic',\n",
       " '277,Swellow,stage 1',\n",
       " '278,Wingull,basic',\n",
       " '279,Pelipper,stage 1',\n",
       " '280,Ralts,basic',\n",
       " '281,Kirlia,stage 1',\n",
       " '282,Gardevoir,stage 2',\n",
       " '282,Gardevoir (Mega Gardevoir),mega',\n",
       " '283,Surskit,basic',\n",
       " '284,Masquerain,stage 1',\n",
       " '285,Shroomish,basic',\n",
       " '286,Breloom,stage 1',\n",
       " '287,Slakoth,basic',\n",
       " '288,Vigoroth,stage 1',\n",
       " '289,Slaking,stage 2',\n",
       " '290,Nincada,basic',\n",
       " '291,Ninjask,stage 1',\n",
       " '292,Shedinja,stage 1',\n",
       " '293,Whismur,basic',\n",
       " '294,Loudred,stage 1',\n",
       " '295,Exploud,stage 2',\n",
       " '296,Makuhita,basic',\n",
       " '297,Hariyama,stage 1',\n",
       " '298,Azurill,baby',\n",
       " '299,Nosepass,basic',\n",
       " '300,Skitty,basic',\n",
       " '301,Delcatty,stage 1',\n",
       " '302,Sableye,basic',\n",
       " '302,Sableye (Mega Sableye),mega',\n",
       " '303,Mawile,basic',\n",
       " '303,Mawile (Mega Mawile),mega',\n",
       " '304,Aron,basic',\n",
       " '305,Lairon,stage 1',\n",
       " '306,Aggron,stage 2',\n",
       " '306,Aggron (Mega Aggron),mega',\n",
       " '307,Meditite,basic',\n",
       " '308,Medicham,stage 1',\n",
       " '308,Medicham (Mega Medicham),mega',\n",
       " '309,Electrike,basic',\n",
       " '310,Manectric,stage 1',\n",
       " '310,Manectric (Mega Manectric),mega',\n",
       " '311,Plusle,basic',\n",
       " '312,Minun,basic',\n",
       " '313,Volbeat,basic',\n",
       " '314,Illumise,basic',\n",
       " '315,Roselia,basic',\n",
       " '316,Gulpin,basic',\n",
       " '317,Swalot,stage 1',\n",
       " '318,Carvanha,basic',\n",
       " '319,Sharpedo,stage 1',\n",
       " '319,Sharpedo (Mega Sharpedo),mega',\n",
       " '320,Wailmer,basic',\n",
       " '321,Wailord,stage 1',\n",
       " '322,Numel,basic',\n",
       " '323,Camerupt,stage 1',\n",
       " '323,Camerupt (Mega Camerupt),mega',\n",
       " '324,Torkoal,basic',\n",
       " '325,Spoink,basic',\n",
       " '326,Grumpig,stage 1',\n",
       " '327,Spinda,basic',\n",
       " '328,Trapinch,basic',\n",
       " '329,Vibrava,stage 1',\n",
       " '330,Flygon,stage 2',\n",
       " '331,Cacnea,basic',\n",
       " '332,Cacturne,stage 1',\n",
       " '333,Swablu,basic',\n",
       " '334,Altaria,stage 1',\n",
       " '334,Altaria (Mega Altaria),mega',\n",
       " '335,Zangoose,basic',\n",
       " '336,Seviper,basic',\n",
       " '337,Lunatone,basic',\n",
       " '338,Solrock,basic',\n",
       " '339,Barboach,basic',\n",
       " '340,Whiscash,stage 1',\n",
       " '341,Corphish,basic',\n",
       " '342,Crawdaunt,stage 1',\n",
       " '343,Baltoy,basic',\n",
       " '344,Claydol,stage 1',\n",
       " '345,Lileep,basic',\n",
       " '346,Cradily,stage 1',\n",
       " '347,Anorith,basic',\n",
       " '348,Armaldo,stage 1',\n",
       " '349,Feebas,basic',\n",
       " '350,Milotic,stage 1',\n",
       " '351,Castform,basic',\n",
       " '352,Kecleon,basic',\n",
       " '353,Shuppet,basic',\n",
       " '354,Banette,stage 1',\n",
       " '354,Banette (Mega Banette),mega',\n",
       " '355,Duskull,basic',\n",
       " '356,Dusclops,stage 1',\n",
       " '357,Tropius,basic',\n",
       " '358,Chimecho,basic',\n",
       " '359,Absol,basic',\n",
       " '359,Absol (Mega Absol),mega',\n",
       " '360,Wynaut,baby',\n",
       " '361,Snorunt,basic',\n",
       " '362,Glalie,stage 1',\n",
       " '362,Glalie (Mega Glalie),mega',\n",
       " '363,Spheal,basic',\n",
       " '364,Sealeo,stage 1',\n",
       " '365,Walrein,stage 2',\n",
       " '366,Clamperl,basic',\n",
       " '367,Huntail,stage 1',\n",
       " '368,Gorebyss,stage 1',\n",
       " '369,Relicanth,basic',\n",
       " '370,Luvdisc,basic',\n",
       " '371,Bagon,basic',\n",
       " '372,Shelgon,stage 1',\n",
       " '373,Salamence,stage 2',\n",
       " '373,Salamence (Mega Salamence),mega',\n",
       " '374,Beldum,basic',\n",
       " '375,Metang,stage 1',\n",
       " '376,Metagross,stage 2',\n",
       " '376,Metagross (Mega Metagross),mega',\n",
       " '377,Regirock,legendary',\n",
       " '378,Regice,legendary',\n",
       " '379,Registeel,legendary',\n",
       " '380,Latias,legendary',\n",
       " '380,Latias (Mega Latias),mega',\n",
       " '381,Latios,legendary',\n",
       " '381,Latios (Mega Latios),mega',\n",
       " '382,Kyogre,legendary',\n",
       " '382,Kyogre (Primal Kyogre),mega',\n",
       " '383,Groudon,legendary',\n",
       " '383,Groudon (Primal Groudon),mega',\n",
       " '384,Rayquaza,legendary',\n",
       " '384,Rayquaza (Mega Rayquaza),mega',\n",
       " '385,Jirachi,legendary',\n",
       " '386,Deoxys (Normal Forme),legendary',\n",
       " '386,Deoxys (Attack Forme),legendary',\n",
       " '386,Deoxys (Defense Forme),legendary',\n",
       " '386,Deoxys (Speed Forme),legendary',\n",
       " '387,Turtwig,basic',\n",
       " '388,Grotle,stage 1',\n",
       " '389,Torterra,stage 2',\n",
       " '390,Chimchar,basic',\n",
       " '391,Monferno,stage 1',\n",
       " '392,Infernape,stage 2',\n",
       " '393,Piplup,basic',\n",
       " '394,Prinplup,stage 1',\n",
       " '395,Empoleon,stage 2',\n",
       " '396,Starly,basic',\n",
       " '397,Staravia,stage 1',\n",
       " '398,Staraptor,stage 2',\n",
       " '399,Bidoof,basic',\n",
       " '400,Bibarel,stage 1',\n",
       " '401,Kricketot,basic',\n",
       " '402,Kricketune,stage 1',\n",
       " '403,Shinx,basic',\n",
       " '404,Luxio,stage 1',\n",
       " '405,Luxray,stage 2',\n",
       " '406,Budew,baby',\n",
       " '407,Roserade,stage 1',\n",
       " '408,Cranidos,basic',\n",
       " '409,Rampardos,stage 1',\n",
       " '410,Shieldon,basic',\n",
       " '411,Bastiodon,stage 1',\n",
       " '412,Burmy,basic',\n",
       " '413,Wormadam (Plant Cloak),stage 1',\n",
       " '413,Wormadam (Sandy Cloak),stage 1',\n",
       " '413,Wormadam (Trash Cloak),stage 1',\n",
       " '414,Mothim,stage 1',\n",
       " '415,Combee,basic',\n",
       " '416,Vespiquen,stage 1',\n",
       " '417,Pachirisu,basic',\n",
       " '418,Buizel,basic',\n",
       " '419,Floatzel,stage 1',\n",
       " '420,Cherubi,basic',\n",
       " '421,Cherrim,stage 1',\n",
       " '422,Shellos,basic',\n",
       " '423,Gastrodon,stage 1',\n",
       " '424,Ambipom,stage 1',\n",
       " '425,Drifloon,basic',\n",
       " '426,Drifblim,stage 1',\n",
       " '427,Buneary,basic',\n",
       " '428,Lopunny,stage 1',\n",
       " '428,Lopunny (Mega Lopunny),mega',\n",
       " '429,Mismagius,stage 1',\n",
       " '430,Honchkrow,stage 1',\n",
       " '431,Glameow,basic',\n",
       " '432,Purugly,stage 1',\n",
       " '433,Chingling,baby',\n",
       " '434,Stunky,basic',\n",
       " '435,Skuntank,stage 1',\n",
       " '436,Bronzor,basic',\n",
       " '437,Bronzong,stage 1',\n",
       " '438,Bonsly,baby',\n",
       " '439,Mime Jr.,baby',\n",
       " '440,Happiny,baby',\n",
       " '441,Chatot,basic',\n",
       " '442,Spiritomb,basic',\n",
       " '443,Gible,basic',\n",
       " '444,Gabite,stage 1',\n",
       " '445,Garchomp,stage 2',\n",
       " '445,Garchomp (Mega Garchomp),mega',\n",
       " '446,Munchlax,baby',\n",
       " '447,Riolu,baby',\n",
       " '448,Lucario,basic',\n",
       " '448,Lucario (Mega Lucario),mega',\n",
       " '449,Hippopotas,basic',\n",
       " '450,Hippowdon,stage 1',\n",
       " '451,Skorupi,basic',\n",
       " '452,Drapion,stage 1',\n",
       " '453,Croagunk,basic',\n",
       " '454,Toxicroak,stage 1',\n",
       " '455,Carnivine,basic',\n",
       " '456,Finneon,basic',\n",
       " '457,Lumineon,stage 1',\n",
       " '458,Mantyke,baby',\n",
       " '459,Snover,basic',\n",
       " '460,Abomasnow,stage 1',\n",
       " '460,Abomasnow (Mega Abomasnow),mega',\n",
       " '461,Weavile,stage 1',\n",
       " '462,Magnezone,stage 2',\n",
       " '463,Lickilicky,stage 1',\n",
       " '464,Rhyperior,stage 2',\n",
       " '465,Tangrowth,stage 1',\n",
       " '466,Electivire,stage 1',\n",
       " '467,Magmortar,stage 1',\n",
       " '468,Togekiss,stage 1',\n",
       " '469,Yanmega,stage 1',\n",
       " '470,Leafeon,stage 1',\n",
       " '471,Glaceon,stage 1',\n",
       " '472,Gliscor,stage 1',\n",
       " '473,Mamoswine,stage 2',\n",
       " '474,Porygon-Z,stage 2',\n",
       " '475,Gallade,stage 2',\n",
       " '475,Gallade (Mega Gallade),mega',\n",
       " '476,Probopass,stage 1',\n",
       " '477,Dusknoir,stage 2',\n",
       " '478,Froslass,stage 1',\n",
       " '479,Rotom,basic',\n",
       " '479,Rotom (Heat Rotom),basic',\n",
       " '479,Rotom (Wash Rotom),basic',\n",
       " '479,Rotom (Frost Rotom),basic',\n",
       " '479,Rotom (Fan Rotom),basic',\n",
       " '479,Rotom (Mow Rotom),basic',\n",
       " '480,Uxie,legendary',\n",
       " '481,Mesprit,legendary',\n",
       " '482,Azelf,legendary',\n",
       " '483,Dialga,legendary',\n",
       " '484,Palkia,legendary',\n",
       " '485,Heatran,legendary',\n",
       " '486,Regigigas,legendary',\n",
       " '487,Giratina (Altered Forme),legendary',\n",
       " '487,Giratina (Origin Forme),legendary',\n",
       " '488,Cresselia,legendary',\n",
       " '489,Phione,legendary',\n",
       " '490,Manaphy,legendary',\n",
       " '491,Darkrai,legendary',\n",
       " '492,Shaymin (Land Forme),legendary',\n",
       " '492,Shaymin (Sky Forme),legendary',\n",
       " '493,Arceus,legendary',\n",
       " '494,Victini,legendary',\n",
       " '495,Snivy,basic',\n",
       " '496,Servine,stage 1',\n",
       " '497,Serperior,stage 2',\n",
       " '498,Tepig,basic',\n",
       " '499,Pignite,stage 1',\n",
       " '500,Emboar,stage 2',\n",
       " '501,Oshawott,basic',\n",
       " '502,Dewott,stage 1',\n",
       " '503,Samurott,stage 2',\n",
       " '504,Patrat,basic',\n",
       " '505,Watchog,stage 1',\n",
       " '506,Lillipup,basic',\n",
       " '507,Herdier,stage 1',\n",
       " '508,Stoutland,stage 2',\n",
       " '509,Purrloin,basic',\n",
       " '510,Liepard,stage 1',\n",
       " '511,Pansage,basic',\n",
       " '512,Simisage,stage 1',\n",
       " '513,Pansear,basic',\n",
       " '514,Simisear,stage 1',\n",
       " '515,Panpour,basic',\n",
       " '516,Simipour,stage 1',\n",
       " '517,Munna,basic',\n",
       " '518,Musharna,stage 1',\n",
       " '519,Pidove,basic',\n",
       " '520,Tranquill,stage 1',\n",
       " '521,Unfezant,stage 2',\n",
       " '522,Blitzle,basic',\n",
       " '523,Zebstrika,stage 1',\n",
       " '524,Roggenrola,basic',\n",
       " '525,Boldore,stage 1',\n",
       " '526,Gigalith,stage 2',\n",
       " '527,Woobat,basic',\n",
       " '528,Swoobat,stage 1',\n",
       " '529,Drilbur,basic',\n",
       " '530,Excadrill,stage 1',\n",
       " '531,Audino,basic',\n",
       " '531,Audino (Mega Audino),mega',\n",
       " '532,Timburr,basic',\n",
       " '533,Gurdurr,stage 1',\n",
       " '534,Conkeldurr,stage 2',\n",
       " '535,Tympole,basic',\n",
       " '536,Palpitoad,stage 1',\n",
       " '537,Seismitoad,stage 2',\n",
       " '538,Throh,basic',\n",
       " '539,Sawk,basic',\n",
       " '540,Sewaddle,basic',\n",
       " '541,Swadloon,stage 1',\n",
       " '542,Leavanny,stage 2',\n",
       " '543,Venipede,basic',\n",
       " '544,Whirlipede,stage 1',\n",
       " '545,Scolipede,stage 2',\n",
       " '546,Cottonee,basic',\n",
       " '547,Whimsicott,stage 1',\n",
       " '548,Petilil,basic',\n",
       " '549,Lilligant,stage 1',\n",
       " '550,Basculin,basic',\n",
       " '551,Sandile,basic',\n",
       " '552,Krokorok,stage 1',\n",
       " '553,Krookodile,stage 2',\n",
       " '554,Darumaka,basic',\n",
       " '555,Darmanitan (Standard Mode),stage 1',\n",
       " '555,Darmanitan (Zen Mode),stage 2',\n",
       " '556,Maractus,basic',\n",
       " '557,Dwebble,basic',\n",
       " '558,Crustle,stage 1',\n",
       " '559,Scraggy,basic',\n",
       " '560,Scrafty,stage 1',\n",
       " '561,Sigilyph,basic',\n",
       " '562,Yamask,basic',\n",
       " '563,Cofagrigus,stage 1',\n",
       " '564,Tirtouga,basic',\n",
       " '565,Carracosta,stage 1',\n",
       " '566,Archen,basic',\n",
       " '567,Archeops,stage 1',\n",
       " '568,Trubbish,basic',\n",
       " '569,Garbodor,stage 1',\n",
       " '570,Zorua,basic',\n",
       " '571,Zoroark,stage 1',\n",
       " '572,Minccino,basic',\n",
       " '573,Cinccino,stage 1',\n",
       " '574,Gothita,basic',\n",
       " '575,Gothorita,stage 1',\n",
       " '576,Gothitelle,stage 2',\n",
       " '577,Solosis,basic',\n",
       " '578,Duosion,stage 1',\n",
       " '579,Reuniclus,stage 2',\n",
       " '580,Ducklett,basic',\n",
       " '581,Swanna,stage 1',\n",
       " '582,Vanillite,basic',\n",
       " '583,Vanillish,stage 1',\n",
       " '584,Vanilluxe,stage 2',\n",
       " '585,Deerling,basic',\n",
       " '586,Sawsbuck,stage 1',\n",
       " '587,Emolga,basic',\n",
       " '588,Karrablast,basic',\n",
       " '589,Escavalier,stage 1',\n",
       " '590,Foongus,basic',\n",
       " '591,Amoonguss,stage 1',\n",
       " '592,Frillish,basic',\n",
       " '593,Jellicent,stage 1',\n",
       " '594,Alomomola,basic',\n",
       " '595,Joltik,basic',\n",
       " '596,Galvantula,stage 1',\n",
       " '597,Ferroseed,basic',\n",
       " '598,Ferrothorn,stage 1',\n",
       " '599,Klink,basic',\n",
       " '600,Klang,stage 1',\n",
       " '601,Klinklang,stage 2',\n",
       " '602,Tynamo,basic',\n",
       " '603,Eelektrik,stage 1',\n",
       " '604,Eelektross,stage 2',\n",
       " '605,Elgyem,basic',\n",
       " '606,Beheeyem,stage 1',\n",
       " '607,Litwick,basic',\n",
       " '608,Lampent,stage 1',\n",
       " '609,Chandelure,stage 2',\n",
       " '610,Axew,basic',\n",
       " '611,Fraxure,stage 1',\n",
       " '612,Haxorus,stage 2',\n",
       " '613,Cubchoo,basic',\n",
       " '614,Beartic,stage 1',\n",
       " '615,Cryogonal,basic',\n",
       " '616,Shelmet,basic',\n",
       " '617,Accelgor,stage 1',\n",
       " '618,Stunfisk,basic',\n",
       " '619,Mienfoo,basic',\n",
       " '620,Mienshao,stage 1',\n",
       " '621,Druddigon,basic',\n",
       " '622,Golett,basic',\n",
       " '623,Golurk,stage 1',\n",
       " '624,Pawniard,basic',\n",
       " '625,Bisharp,stage 1',\n",
       " '626,Bouffalant,basic',\n",
       " '627,Rufflet,basic',\n",
       " '628,Braviary,stage 1',\n",
       " '629,Vullaby,basic',\n",
       " '630,Mandibuzz,stage 1',\n",
       " '631,Heatmor,basic',\n",
       " '632,Durant,basic',\n",
       " '633,Deino,basic',\n",
       " '634,Zweilous,stage 1',\n",
       " '635,Hydreigon,stage 2',\n",
       " '636,Larvesta,basic',\n",
       " '637,Volcarona,stage 1',\n",
       " '638,Cobalion,legendary',\n",
       " '639,Terrakion,legendary',\n",
       " '640,Virizion,legendary',\n",
       " '641,Tornadus (Incarnate Forme),legendary',\n",
       " '641,Tornadus (Therian Forme),legendary',\n",
       " '642,Thundurus (Incarnate Forme),legendary',\n",
       " '642,Thundurus (Therian Forme),legendary',\n",
       " '643,Reshiram,legendary',\n",
       " '644,Zekrom,legendary',\n",
       " '645,Landorus (Incarnate Forme),legendary',\n",
       " '645,Landorus (Therian Forme),legendary',\n",
       " '646,Kyurem (Normal Kyurem),legendary',\n",
       " '646,Kyurem (Black Kyurem),legendary',\n",
       " '646,Kyurem (White Kyurem),legendary',\n",
       " '647,Keldeo,legendary',\n",
       " '648,Meloetta (Aria Forme),legendary',\n",
       " '648,Meloetta (Pirouette Forme),legendary',\n",
       " '649,Genesect,legendary',\n",
       " '650,Chespin,basic',\n",
       " '651,Quilladin,stage 1',\n",
       " '652,Chesnaught,stage 2',\n",
       " '653,Fennekin,basic',\n",
       " '654,Braixen,stage 1',\n",
       " '655,Delphox,stage 2',\n",
       " '656,Froakie,basic',\n",
       " '657,Frogadier,stage 1',\n",
       " '658,Greninja,stage 2',\n",
       " '658,Greninja (Ash-Greninja),stage 2',\n",
       " '659,Bunnelby,basic',\n",
       " '660,Diggersby,stage 1',\n",
       " '661,Fletchling,basic',\n",
       " '662,Fletchinder,stage 1',\n",
       " '663,Talonflame,stage 2',\n",
       " '664,Scatterbug,basic',\n",
       " '665,Spewpa,stage 1',\n",
       " '666,Vivillon,stage 2',\n",
       " '667,Litleo,basic',\n",
       " '668,Pyroar,stage 1',\n",
       " '669,FlabÃ©bÃ©,basic',\n",
       " '670,Floette,stage 1',\n",
       " '671,Florges,stage 2',\n",
       " '672,Skiddo,basic',\n",
       " '673,Gogoat,stage 1',\n",
       " '674,Pancham,basic',\n",
       " '675,Pangoro,stage 1',\n",
       " '676,Furfrou,basic',\n",
       " '677,Espurr,basic',\n",
       " '678,Meowstic,stage 1',\n",
       " '679,Honedge,basic',\n",
       " '680,Doublade,stage 1',\n",
       " '681,Aegislash (Shield Forme),stage 2',\n",
       " '681,Aegislash (Blade Forme),stage 2',\n",
       " '682,Spritzee,basic',\n",
       " '683,Aromatisse,stage 1',\n",
       " '684,Swirlix,basic',\n",
       " '685,Slurpuff,stage 1',\n",
       " '686,Inkay,basic',\n",
       " '687,Malamar,stage 1',\n",
       " '688,Binacle,basic',\n",
       " '689,Barbaracle,stage 1',\n",
       " '690,Skrelp,basic',\n",
       " '691,Dragalge,stage 1',\n",
       " '692,Clauncher,basic',\n",
       " '693,Clawitzer,stage 1',\n",
       " '694,Helioptile,basic',\n",
       " '695,Heliolisk,stage 1',\n",
       " '696,Tyrunt,basic',\n",
       " '697,Tyrantrum,stage 1',\n",
       " '698,Amaura,basic',\n",
       " '699,Aurorus,stage 1',\n",
       " '700,Sylveon,stage 1',\n",
       " '701,Hawlucha,basic',\n",
       " '702,Dedenne,basic',\n",
       " '703,Carbink,basic',\n",
       " '704,Goomy,basic',\n",
       " '705,Sliggoo,stage 1',\n",
       " '706,Goodra,stage 2',\n",
       " '707,Klefki,basic',\n",
       " '708,Phantump,basic',\n",
       " '709,Trevenant,stage 1',\n",
       " '710,Pumpkaboo (Small Size),basic',\n",
       " '710,Pumpkaboo (Average Size),basic',\n",
       " '710,Pumpkaboo (Large Size),basic',\n",
       " '710,Pumpkaboo (Super Size),basic',\n",
       " '711,Gourgeist (Small Size),stage 1',\n",
       " '711,Gourgeist (Average Size),stage 1',\n",
       " '711,Gourgeist (Large Size),stage 1',\n",
       " '711,Gourgeist (Super Size),stage 1',\n",
       " '712,Bergmite,basic',\n",
       " '713,Avalugg,stage 1',\n",
       " '714,Noibat,basic',\n",
       " '715,Noivern,stage 1',\n",
       " '716,Xerneas,legendary',\n",
       " '717,Yveltal,legendary',\n",
       " '718,Zygarde (50% Forme),legendary',\n",
       " '718,Zygarde (10% Forme),legendary',\n",
       " '718,Zygarde (Complete Forme),legendary',\n",
       " '719,Diancie,legendary',\n",
       " '719,Diancie (Mega Diancie),mega',\n",
       " '720,Hoopa (Hoopa Confined),legendary',\n",
       " '720,Hoopa (Hoopa Unbound),legendary',\n",
       " '721,Volcanion,legendary',\n",
       " '722,Rowlet,basic',\n",
       " '723,Dartrix,stage 1',\n",
       " '724,Decidueye,stage 2',\n",
       " '725,Litten,basic',\n",
       " '726,Torracat,stage 1',\n",
       " '727,Incineroar,stage 2',\n",
       " '728,Popplio,basic',\n",
       " '729,Brionne,stage 1',\n",
       " '730,Primarina,stage 2',\n",
       " '731,Pikipek,basic',\n",
       " '732,Trumbeak,stage 1',\n",
       " '733,Toucannon,stage 2',\n",
       " '734,Yungoos,basic',\n",
       " '735,Gumshoos,stage 1',\n",
       " '736,Grubbin,basic',\n",
       " '737,Charjabug,stage 1',\n",
       " '738,Vikavolt,stage 2',\n",
       " '739,Crabrawler,basic',\n",
       " '740,Crabominable,stage 1',\n",
       " '741,Oricorio,basic',\n",
       " '742,Cutiefly,basic',\n",
       " '743,Ribombee,stage 1',\n",
       " '744,Rockruff,basic',\n",
       " '745,Lycanroc (Midday Form),stage 1',\n",
       " '745,Lycanroc (Midnight Form),stage 1',\n",
       " '745,Lycanroc (Dusk Form),stage 1',\n",
       " '746,Wishiwashi (Solo Form),basic',\n",
       " '746,Wishiwashi (School Form),basic',\n",
       " '747,Mareanie,basic',\n",
       " '748,Toxapex,stage 1',\n",
       " '749,Mudbray,basic',\n",
       " '750,Mudsdale,stage 1',\n",
       " '751,Dewpider,basic',\n",
       " '752,Araquanid,stage 1',\n",
       " '753,Fomantis,basic',\n",
       " '754,Lurantis,stage 1',\n",
       " '755,Morelull,basic',\n",
       " '756,Shiinotic,stage 1',\n",
       " '757,Salandit,basic',\n",
       " '758,Salazzle,stage 1',\n",
       " '759,Stufful,basic',\n",
       " '760,Bewear,stage 1',\n",
       " '761,Bounsweet,basic',\n",
       " '762,Steenee,stage 1',\n",
       " '763,Tsareena,stage 2',\n",
       " '764,Comfey,basic',\n",
       " '765,Oranguru,basic',\n",
       " '766,Passimian,basic',\n",
       " '767,Wimpod,basic',\n",
       " '768,Golisopod,stage 1',\n",
       " '769,Sandygast,basic',\n",
       " '770,Palossand,stage 1',\n",
       " '771,Pyukumuku,basic',\n",
       " '772,Type: Null,legendary',\n",
       " '773,Silvally,legendary',\n",
       " '774,Minior (Meteor Form),basic',\n",
       " '774,Minior (Core Form),basic',\n",
       " '775,Komala,basic',\n",
       " '776,Turtonator,basic',\n",
       " '777,Togedemaru,basic',\n",
       " '778,Mimikyu,basic',\n",
       " '779,Bruxish,basic',\n",
       " '780,Drampa,basic',\n",
       " '781,Dhelmise,basic',\n",
       " '782,Jangmo-o,basic',\n",
       " '783,Hakamo-o,stage 1',\n",
       " '784,Kommo-o,stage 2',\n",
       " '785,Tapu Koko,legendary',\n",
       " '786,Tapu Lele,legendary',\n",
       " '787,Tapu Bulu,legendary',\n",
       " '788,Tapu Fini,legendary',\n",
       " '789,Cosmog,legendary',\n",
       " '790,Cosmoem,legendary',\n",
       " '791,Solgaleo,legendary',\n",
       " '792,Lunala,legendary',\n",
       " '793,Nihilego,ultra beast',\n",
       " '794,Buzzwole,ultra beast',\n",
       " '795,Pheromosa,ultra beast',\n",
       " '796,Xurkitree,ultra beast',\n",
       " '797,Celesteela,ultra beast',\n",
       " '798,Kartana,ultra beast',\n",
       " '799,Guzzlord,ultra beast',\n",
       " '800,Necrozma,legendary',\n",
       " '800,Necrozma (Dusk Mane),legendary',\n",
       " '800,Necrozma (Dawn Wings),legendary',\n",
       " '800,Necrozma (Ultra Necrozma),legendary',\n",
       " '801,Magearna,legendary',\n",
       " '802,Marshadow,legendary',\n",
       " '803,Poipole,ultra beast',\n",
       " '804,Naganadel,ultra beast',\n",
       " '805,Stakataka,ultra beast',\n",
       " '806,Blacephalon,ultra beast',\n",
       " '807,Zeraora,legendary',\n",
       " '808,Meltan,legendary',\n",
       " '809,Melmetal,legendary',\n",
       " '']"
      ]
     },
     "execution_count": 87,
     "metadata": {},
     "output_type": "execute_result"
    }
   ],
   "source": [
    "stages_split"
   ]
  },
  {
   "cell_type": "code",
   "execution_count": 88,
   "metadata": {},
   "outputs": [],
   "source": [
    "pkmn_stages_data = makes_list_of_lists(stages_split)"
   ]
  },
  {
   "cell_type": "code",
   "execution_count": 89,
   "metadata": {},
   "outputs": [],
   "source": [
    "pkmn_stages_df = pd.DataFrame(pkmn_stages_data)"
   ]
  },
  {
   "cell_type": "code",
   "execution_count": null,
   "metadata": {},
   "outputs": [],
   "source": [
    "pkmn_stages_df.head()"
   ]
  },
  {
   "cell_type": "code",
   "execution_count": 90,
   "metadata": {},
   "outputs": [],
   "source": [
    "#update all text data to lowercase\n",
    "pkmn_stages_df = pkmn_stages_df.apply(lambda row: row.astype(str).str.lower())\n",
    "\n",
    "#Promote first row of df to headers\n",
    "header_row = pkmn_stages_df.iloc[0]\n",
    "pkmn_stages_df = pkmn_stages_df[1:]\n",
    "pkmn_stages_df.columns = header_row"
   ]
  },
  {
   "cell_type": "code",
   "execution_count": 91,
   "metadata": {},
   "outputs": [
    {
     "data": {
      "text/html": [
       "<div>\n",
       "<style scoped>\n",
       "    .dataframe tbody tr th:only-of-type {\n",
       "        vertical-align: middle;\n",
       "    }\n",
       "\n",
       "    .dataframe tbody tr th {\n",
       "        vertical-align: top;\n",
       "    }\n",
       "\n",
       "    .dataframe thead th {\n",
       "        text-align: right;\n",
       "    }\n",
       "</style>\n",
       "<table border=\"1\" class=\"dataframe\">\n",
       "  <thead>\n",
       "    <tr style=\"text-align: right;\">\n",
       "      <th></th>\n",
       "      <th>dex #</th>\n",
       "      <th>pokemon</th>\n",
       "      <th>stage</th>\n",
       "    </tr>\n",
       "  </thead>\n",
       "  <tbody>\n",
       "    <tr>\n",
       "      <th>1</th>\n",
       "      <td>1</td>\n",
       "      <td>bulbasaur</td>\n",
       "      <td>basic</td>\n",
       "    </tr>\n",
       "    <tr>\n",
       "      <th>2</th>\n",
       "      <td>2</td>\n",
       "      <td>ivysaur</td>\n",
       "      <td>stage 1</td>\n",
       "    </tr>\n",
       "    <tr>\n",
       "      <th>3</th>\n",
       "      <td>3</td>\n",
       "      <td>venusaur</td>\n",
       "      <td>stage 2</td>\n",
       "    </tr>\n",
       "    <tr>\n",
       "      <th>4</th>\n",
       "      <td>3</td>\n",
       "      <td>venusaur (mega venusaur)</td>\n",
       "      <td>mega</td>\n",
       "    </tr>\n",
       "    <tr>\n",
       "      <th>5</th>\n",
       "      <td>4</td>\n",
       "      <td>charmander</td>\n",
       "      <td>basic</td>\n",
       "    </tr>\n",
       "  </tbody>\n",
       "</table>\n",
       "</div>"
      ],
      "text/plain": [
       "0 dex #                   pokemon    stage\n",
       "1     1                 bulbasaur    basic\n",
       "2     2                   ivysaur  stage 1\n",
       "3     3                  venusaur  stage 2\n",
       "4     3  venusaur (mega venusaur)     mega\n",
       "5     4                charmander    basic"
      ]
     },
     "execution_count": 91,
     "metadata": {},
     "output_type": "execute_result"
    }
   ],
   "source": [
    "pkmn_stages_df.head()"
   ]
  },
  {
   "cell_type": "markdown",
   "metadata": {},
   "source": [
    "#### Constructing the Third Table (Pokemon Types)"
   ]
  },
  {
   "cell_type": "markdown",
   "metadata": {},
   "source": [
    "Similarly to evolutionary stage, Pokemon can be classified based on their type (an elemental affinity).\n",
    "\n",
    "This information can also be scraped from bulbapedia using the same method that was used to construct our first table."
   ]
  },
  {
   "cell_type": "code",
   "execution_count": 92,
   "metadata": {},
   "outputs": [],
   "source": [
    "#Third Table Download\n",
    "url_2 = 'https://bulbapedia.bulbagarden.net/wiki/List_of_Pok%C3%A9mon_by_index_number_(Generation_VII)'\n",
    "page_2 = requests.get(url_2)\n",
    "tree_2 = html.fromstring(page_2.content)\n",
    "\n",
    "tr_elements_2 = tree_2.xpath('//tr')"
   ]
  },
  {
   "cell_type": "code",
   "execution_count": 93,
   "metadata": {},
   "outputs": [
    {
     "data": {
      "text/plain": [
       "[2, 3, 4, 6, 6, 6, 6, 6, 6, 6, 6, 6]"
      ]
     },
     "execution_count": 93,
     "metadata": {},
     "output_type": "execute_result"
    }
   ],
   "source": [
    "#Checks for element length. Helps determine if you scraped more than one table.\n",
    "#I checked the first 12 and last 12 elements of the table. You can un-comment out the below lines to \n",
    "# see the length of the elements. Based on this sampling, it looks like the length of 6 is the main\n",
    "# main table from our website.\n",
    "[len(el) for el in tr_elements_2[:12]]\n",
    "#[len(el) for el in tr_elements_2[-13:-1]]"
   ]
  },
  {
   "cell_type": "code",
   "execution_count": 94,
   "metadata": {},
   "outputs": [],
   "source": [
    "pkmn_types_table_rows = []\n",
    "\n",
    "for el in tr_elements_2:\n",
    "    if len(el) == 6:\n",
    "        row = el.text_content()\n",
    "        pkmn_types_table_rows.append(row)"
   ]
  },
  {
   "cell_type": "code",
   "execution_count": null,
   "metadata": {},
   "outputs": [],
   "source": [
    "#Interestingly, the type table that we scraped did not include a header row.\n",
    "#Again, we see the use of the newline characters (\\n) to separate cells in the table on the bulbapedia webpage.\n",
    "pkmn_types_table_rows"
   ]
  },
  {
   "cell_type": "code",
   "execution_count": 95,
   "metadata": {},
   "outputs": [],
   "source": [
    "#Here I create a new list to function as the table headers for our pkmn_type_table_df.\n",
    "#This will help keep our data clear as we edit it and join it later on.\n",
    "pkmn_types_table_header = ['bulb_index,nat_dex,pokemon,type1,type2']\n",
    "\n",
    "pkmn_types_table_rows = pkmn_types_table_header+pkmn_types_table_rows"
   ]
  },
  {
   "cell_type": "code",
   "execution_count": null,
   "metadata": {},
   "outputs": [],
   "source": [
    "pkmn_types_table_rows"
   ]
  },
  {
   "cell_type": "code",
   "execution_count": 96,
   "metadata": {},
   "outputs": [],
   "source": [
    "pkmn_types_df = bulbapedia_table_cleaner(pkmn_types_table_rows)"
   ]
  },
  {
   "cell_type": "code",
   "execution_count": null,
   "metadata": {},
   "outputs": [],
   "source": [
    "pkmn_types_df.head()"
   ]
  },
  {
   "cell_type": "code",
   "execution_count": 97,
   "metadata": {},
   "outputs": [],
   "source": [
    "#update all text data to lowercase\n",
    "pkmn_types_df = pkmn_types_df.apply(lambda row: row.astype(str).str.lower())\n",
    "\n",
    "#Promote first row of df to headers\n",
    "header_row = pkmn_types_df.iloc[0]\n",
    "pkmn_types_df = pkmn_types_df[1:]\n",
    "pkmn_types_df.columns = header_row"
   ]
  },
  {
   "cell_type": "code",
   "execution_count": 98,
   "metadata": {},
   "outputs": [
    {
     "data": {
      "text/html": [
       "<div>\n",
       "<style scoped>\n",
       "    .dataframe tbody tr th:only-of-type {\n",
       "        vertical-align: middle;\n",
       "    }\n",
       "\n",
       "    .dataframe tbody tr th {\n",
       "        vertical-align: top;\n",
       "    }\n",
       "\n",
       "    .dataframe thead th {\n",
       "        text-align: right;\n",
       "    }\n",
       "</style>\n",
       "<table border=\"1\" class=\"dataframe\">\n",
       "  <thead>\n",
       "    <tr style=\"text-align: right;\">\n",
       "      <th></th>\n",
       "      <th>bulb_index</th>\n",
       "      <th>nat_dex</th>\n",
       "      <th>pokemon</th>\n",
       "      <th>type1</th>\n",
       "      <th>type2</th>\n",
       "    </tr>\n",
       "  </thead>\n",
       "  <tbody>\n",
       "    <tr>\n",
       "      <th>1</th>\n",
       "      <td>001</td>\n",
       "      <td>001</td>\n",
       "      <td>bulbasaur</td>\n",
       "      <td>grass</td>\n",
       "      <td>poison</td>\n",
       "    </tr>\n",
       "    <tr>\n",
       "      <th>2</th>\n",
       "      <td>002</td>\n",
       "      <td>002</td>\n",
       "      <td>ivysaur</td>\n",
       "      <td>grass</td>\n",
       "      <td>poison</td>\n",
       "    </tr>\n",
       "    <tr>\n",
       "      <th>3</th>\n",
       "      <td>003</td>\n",
       "      <td>003</td>\n",
       "      <td>venusaur</td>\n",
       "      <td>grass</td>\n",
       "      <td>poison</td>\n",
       "    </tr>\n",
       "    <tr>\n",
       "      <th>4</th>\n",
       "      <td>004</td>\n",
       "      <td>004</td>\n",
       "      <td>charmander</td>\n",
       "      <td>fire</td>\n",
       "      <td>fire</td>\n",
       "    </tr>\n",
       "    <tr>\n",
       "      <th>5</th>\n",
       "      <td>005</td>\n",
       "      <td>005</td>\n",
       "      <td>charmeleon</td>\n",
       "      <td>fire</td>\n",
       "      <td>fire</td>\n",
       "    </tr>\n",
       "  </tbody>\n",
       "</table>\n",
       "</div>"
      ],
      "text/plain": [
       "0 bulb_index nat_dex     pokemon  type1   type2\n",
       "1        001     001   bulbasaur  grass  poison\n",
       "2        002     002     ivysaur  grass  poison\n",
       "3        003     003    venusaur  grass  poison\n",
       "4        004     004  charmander   fire    fire\n",
       "5        005     005  charmeleon   fire    fire"
      ]
     },
     "execution_count": 98,
     "metadata": {},
     "output_type": "execute_result"
    }
   ],
   "source": [
    "pkmn_types_df.head()"
   ]
  },
  {
   "cell_type": "markdown",
   "metadata": {},
   "source": [
    "#### Merging Dataframes"
   ]
  },
  {
   "cell_type": "markdown",
   "metadata": {},
   "source": [
    "At this point, I am going to merge my BST dataframe and my stages dataframe together. Because the stages dataframe was generated from the same webpage data as the BST dataframe, I know that these rows will match 1:1.\n",
    "\n",
    "I am not merging in our types dataframe because it needs to be cleaned and edited before it can be merged correctly."
   ]
  },
  {
   "cell_type": "code",
   "execution_count": 99,
   "metadata": {},
   "outputs": [],
   "source": [
    "pkmn_bst_stages_df = pd.merge(pkmn_bst_df, pkmn_stages_df, how='left', left_on='pokemon', right_on='pokemon')"
   ]
  },
  {
   "cell_type": "code",
   "execution_count": 100,
   "metadata": {},
   "outputs": [
    {
     "data": {
      "text/html": [
       "<div>\n",
       "<style scoped>\n",
       "    .dataframe tbody tr th:only-of-type {\n",
       "        vertical-align: middle;\n",
       "    }\n",
       "\n",
       "    .dataframe tbody tr th {\n",
       "        vertical-align: top;\n",
       "    }\n",
       "\n",
       "    .dataframe thead th {\n",
       "        text-align: right;\n",
       "    }\n",
       "</style>\n",
       "<table border=\"1\" class=\"dataframe\">\n",
       "  <thead>\n",
       "    <tr style=\"text-align: right;\">\n",
       "      <th></th>\n",
       "      <th>#</th>\n",
       "      <th>pokemon</th>\n",
       "      <th>hp</th>\n",
       "      <th>attack</th>\n",
       "      <th>defense</th>\n",
       "      <th>sp. attack</th>\n",
       "      <th>sp. defense</th>\n",
       "      <th>speed</th>\n",
       "      <th>total</th>\n",
       "      <th>average</th>\n",
       "      <th>dex #</th>\n",
       "      <th>stage</th>\n",
       "    </tr>\n",
       "  </thead>\n",
       "  <tbody>\n",
       "    <tr>\n",
       "      <th>0</th>\n",
       "      <td>001</td>\n",
       "      <td>bulbasaur</td>\n",
       "      <td>45</td>\n",
       "      <td>49</td>\n",
       "      <td>49</td>\n",
       "      <td>65</td>\n",
       "      <td>65</td>\n",
       "      <td>45</td>\n",
       "      <td>318</td>\n",
       "      <td>53</td>\n",
       "      <td>1</td>\n",
       "      <td>basic</td>\n",
       "    </tr>\n",
       "    <tr>\n",
       "      <th>1</th>\n",
       "      <td>002</td>\n",
       "      <td>ivysaur</td>\n",
       "      <td>60</td>\n",
       "      <td>62</td>\n",
       "      <td>63</td>\n",
       "      <td>80</td>\n",
       "      <td>80</td>\n",
       "      <td>60</td>\n",
       "      <td>405</td>\n",
       "      <td>67.5</td>\n",
       "      <td>2</td>\n",
       "      <td>stage 1</td>\n",
       "    </tr>\n",
       "    <tr>\n",
       "      <th>2</th>\n",
       "      <td>003</td>\n",
       "      <td>venusaur</td>\n",
       "      <td>80</td>\n",
       "      <td>82</td>\n",
       "      <td>83</td>\n",
       "      <td>100</td>\n",
       "      <td>100</td>\n",
       "      <td>80</td>\n",
       "      <td>525</td>\n",
       "      <td>87.5</td>\n",
       "      <td>3</td>\n",
       "      <td>stage 2</td>\n",
       "    </tr>\n",
       "    <tr>\n",
       "      <th>3</th>\n",
       "      <td>003</td>\n",
       "      <td>venusaur (mega venusaur)</td>\n",
       "      <td>80</td>\n",
       "      <td>100</td>\n",
       "      <td>123</td>\n",
       "      <td>122</td>\n",
       "      <td>120</td>\n",
       "      <td>80</td>\n",
       "      <td>625</td>\n",
       "      <td>104.17</td>\n",
       "      <td>3</td>\n",
       "      <td>mega</td>\n",
       "    </tr>\n",
       "    <tr>\n",
       "      <th>4</th>\n",
       "      <td>004</td>\n",
       "      <td>charmander</td>\n",
       "      <td>39</td>\n",
       "      <td>52</td>\n",
       "      <td>43</td>\n",
       "      <td>60</td>\n",
       "      <td>50</td>\n",
       "      <td>65</td>\n",
       "      <td>309</td>\n",
       "      <td>51.5</td>\n",
       "      <td>4</td>\n",
       "      <td>basic</td>\n",
       "    </tr>\n",
       "  </tbody>\n",
       "</table>\n",
       "</div>"
      ],
      "text/plain": [
       "0     #                   pokemon  hp attack defense sp. attack sp. defense  \\\n",
       "0   001                 bulbasaur  45     49      49         65          65   \n",
       "1   002                   ivysaur  60     62      63         80          80   \n",
       "2   003                  venusaur  80     82      83        100         100   \n",
       "3   003  venusaur (mega venusaur)  80    100     123        122         120   \n",
       "4   004                charmander  39     52      43         60          50   \n",
       "\n",
       "0 speed total average dex #    stage  \n",
       "0    45   318      53     1    basic  \n",
       "1    60   405    67.5     2  stage 1  \n",
       "2    80   525    87.5     3  stage 2  \n",
       "3    80   625  104.17     3     mega  \n",
       "4    65   309    51.5     4    basic  "
      ]
     },
     "execution_count": 100,
     "metadata": {},
     "output_type": "execute_result"
    }
   ],
   "source": [
    "#rearrange columns for clarity\n",
    "#pkmn_bst_stages_df = pkmn_bst_stages_df[['dex #', 'Pokemon', 'Stage', 'HP', 'Attack', 'Defense', \n",
    "#                                         'Sp. Attack', 'Sp. Defense', 'Speed', 'Total', 'Average']]\n",
    "\n",
    "pkmn_bst_stages_df.head()"
   ]
  },
  {
   "cell_type": "markdown",
   "metadata": {},
   "source": [
    "## Data Exploration "
   ]
  },
  {
   "cell_type": "markdown",
   "metadata": {},
   "source": [
    "The first data issue we come across in our pkmn_bst_df is the inclusion of Mega Pokemon (see Row 4 - Mega Venusaur above). As mentioned above, we want to exclude Mega Pokemon because they are outliers in our dataset. \n",
    "\n",
    "However, there is another issue - Pokemon species that have only alternate forms (formes). You can run the following cells to see some examples."
   ]
  },
  {
   "cell_type": "markdown",
   "metadata": {},
   "source": [
    "There is a discrepancy in how bulbapedia has listed pokemon between  their two tables.\n",
    "\n",
    "In the bst table, pokemon and their alternate forms are listed (eg. \"Venausaur\" and \"Venusaur (Mega Venusaur)\"). This is not an issue for Mega Pokemon or Alolan Forms because the default or original form is captured.\n",
    "\n",
    "However, this is an issue for pokemon that only have \"alternate\" forms, such as Deoxys and Wormadam. This causes these pokemon to be entirely excluded from the merged dataframe because there are no matching values between the bst table and the type table.\n",
    "\n",
    "Run the cell below to see an example of the Deoxys data from the bst table.\n",
    "\n",
    "This project will attempt to exculde all megas from the calculations, but will include Alolan forms and alternate forms."
   ]
  },
  {
   "cell_type": "code",
   "execution_count": null,
   "metadata": {},
   "outputs": [],
   "source": [
    "#See rows 479 - 481 for Wormadam forms - notice the stat distribution is different based on the variant.\n",
    "pkmn_bst_stages_df[474:484]"
   ]
  },
  {
   "cell_type": "code",
   "execution_count": null,
   "metadata": {},
   "outputs": [],
   "source": [
    "#See rows 800-803 for Pumpkaboo variants and rows 804-807 for Gourgeist variants.\n",
    "#Notice stat variations across the different variants here as well.\n",
    "pkmn_bst_stages_df[798:808]"
   ]
  },
  {
   "cell_type": "code",
   "execution_count": null,
   "metadata": {},
   "outputs": [],
   "source": [
    "#creating a new df with all of the special variants listed\n",
    "pkmn_variants_df = pkmn_bst_stages_df[(pkmn_bst_stages_df.pokemon).str.contains(r'([\\(])')]"
   ]
  },
  {
   "cell_type": "markdown",
   "metadata": {},
   "source": [
    "In the following dataframe, you can see all of the different variants that Pokemon species have (125 rows of our first table are variants).\n",
    "\n",
    "To recap - I am excluding certain Pokemon Variants to keep the dataset standardized:\n",
    "\n",
    "Exclude:\n",
    "\n",
    "* Mega Pokemon (ex Mega Venusaur, Mega Charizard X, Mega Charizard Y, etc)\n",
    "\n",
    "* Legendary Pokemon (ex Kyurem (White Kyurem), Meloetta (Aria Forme), Melotta (Pirouette Forme), etc)\n",
    "\n",
    "* Ultra Beasts (None shown in pkmn_variants_df)\n",
    "\n",
    "* Special Pokemon (ex Partner Pikachu, Ash-Greninga, etc)\n",
    "\n",
    "Include:\n",
    "\n",
    "* Alolan Variants (ex Alolan Rattata, Alolan Raticate, Alolan Raichu)\n",
    "\n",
    "* Non-legendary Form Variants (ex Aegislash (Shield Forme), Aegislash (Blade Forme), Pumpkaboo (Small Size), etc)"
   ]
  },
  {
   "cell_type": "code",
   "execution_count": null,
   "metadata": {},
   "outputs": [],
   "source": [
    "pkmn_variants_df"
   ]
  },
  {
   "cell_type": "markdown",
   "metadata": {},
   "source": [
    "However, there is another issue with our data - the two tables we got from Bulbapedia are constructed inconsistently. We will examine these tables and then make some modifications to make sure we are capturing data correctly before we merge in our pkmn_types_df."
   ]
  },
  {
   "cell_type": "code",
   "execution_count": null,
   "metadata": {},
   "outputs": [],
   "source": [
    "pkmn_bst_stages_df.shape"
   ]
  },
  {
   "cell_type": "code",
   "execution_count": null,
   "metadata": {},
   "outputs": [],
   "source": [
    "pkmn_types_df.shape"
   ]
  },
  {
   "cell_type": "markdown",
   "metadata": {},
   "source": [
    "You can see that there is almost a 100 row difference between the two tables we pulled from Bulbapedia!\n",
    "\n",
    "There are various reasons for this discrepancy. Below I will do some more data exploration and cleaning to get our two tables to be a better match before merging.\n",
    "\n",
    "In running the head method on each table, we already see one suspected source of differences - our pkmn_types_df lacks Mega Pokemon (compare the 4th row of each table).\n",
    "\n",
    "We can confirm that this is the case using the str.contains method, similarly to how we created our pkmn_variants_df"
   ]
  },
  {
   "cell_type": "code",
   "execution_count": null,
   "metadata": {},
   "outputs": [],
   "source": [
    "pkmn_bst_stages_df.head()"
   ]
  },
  {
   "cell_type": "code",
   "execution_count": null,
   "metadata": {},
   "outputs": [],
   "source": [
    "pkmn_types_df.head()"
   ]
  },
  {
   "cell_type": "code",
   "execution_count": 101,
   "metadata": {},
   "outputs": [
    {
     "name": "stderr",
     "output_type": "stream",
     "text": [
      "C:\\Users\\nmanh\\Miniconda3\\lib\\site-packages\\ipykernel_launcher.py:1: UserWarning: This pattern has match groups. To actually get the groups, use str.extract.\n",
      "  \"\"\"Entry point for launching an IPython kernel.\n"
     ]
    }
   ],
   "source": [
    "pkmn_mega_types_df = pkmn_types_df[(pkmn_types_df.pokemon).str.contains(r'(mega)')]"
   ]
  },
  {
   "cell_type": "code",
   "execution_count": 102,
   "metadata": {},
   "outputs": [
    {
     "data": {
      "text/html": [
       "<div>\n",
       "<style scoped>\n",
       "    .dataframe tbody tr th:only-of-type {\n",
       "        vertical-align: middle;\n",
       "    }\n",
       "\n",
       "    .dataframe tbody tr th {\n",
       "        vertical-align: top;\n",
       "    }\n",
       "\n",
       "    .dataframe thead th {\n",
       "        text-align: right;\n",
       "    }\n",
       "</style>\n",
       "<table border=\"1\" class=\"dataframe\">\n",
       "  <thead>\n",
       "    <tr style=\"text-align: right;\">\n",
       "      <th></th>\n",
       "      <th>bulb_index</th>\n",
       "      <th>nat_dex</th>\n",
       "      <th>pokemon</th>\n",
       "      <th>type1</th>\n",
       "      <th>type2</th>\n",
       "    </tr>\n",
       "  </thead>\n",
       "  <tbody>\n",
       "    <tr>\n",
       "      <th>154</th>\n",
       "      <td>09a</td>\n",
       "      <td>154</td>\n",
       "      <td>meganium</td>\n",
       "      <td>grass</td>\n",
       "      <td>grass</td>\n",
       "    </tr>\n",
       "    <tr>\n",
       "      <th>471</th>\n",
       "      <td>1d5</td>\n",
       "      <td>469</td>\n",
       "      <td>yanmega</td>\n",
       "      <td>bug</td>\n",
       "      <td>flying</td>\n",
       "    </tr>\n",
       "  </tbody>\n",
       "</table>\n",
       "</div>"
      ],
      "text/plain": [
       "0   bulb_index nat_dex   pokemon  type1   type2\n",
       "154        09a     154  meganium  grass   grass\n",
       "471        1d5     469   yanmega    bug  flying"
      ]
     },
     "execution_count": 102,
     "metadata": {},
     "output_type": "execute_result"
    }
   ],
   "source": [
    "#You should have 2 rows in this table for the Pokemon Meganium and Yanmega\n",
    "pkmn_mega_types_df"
   ]
  },
  {
   "cell_type": "code",
   "execution_count": 103,
   "metadata": {},
   "outputs": [
    {
     "name": "stderr",
     "output_type": "stream",
     "text": [
      "C:\\Users\\nmanh\\Miniconda3\\lib\\site-packages\\ipykernel_launcher.py:4: UserWarning: This pattern has match groups. To actually get the groups, use str.extract.\n",
      "  after removing the cwd from sys.path.\n"
     ]
    },
    {
     "data": {
      "text/html": [
       "<div>\n",
       "<style scoped>\n",
       "    .dataframe tbody tr th:only-of-type {\n",
       "        vertical-align: middle;\n",
       "    }\n",
       "\n",
       "    .dataframe tbody tr th {\n",
       "        vertical-align: top;\n",
       "    }\n",
       "\n",
       "    .dataframe thead th {\n",
       "        text-align: right;\n",
       "    }\n",
       "</style>\n",
       "<table border=\"1\" class=\"dataframe\">\n",
       "  <thead>\n",
       "    <tr style=\"text-align: right;\">\n",
       "      <th></th>\n",
       "      <th>bulb_index</th>\n",
       "      <th>nat_dex</th>\n",
       "      <th>pokemon</th>\n",
       "      <th>type1</th>\n",
       "      <th>type2</th>\n",
       "    </tr>\n",
       "  </thead>\n",
       "  <tbody>\n",
       "  </tbody>\n",
       "</table>\n",
       "</div>"
      ],
      "text/plain": [
       "Empty DataFrame\n",
       "Columns: [bulb_index, nat_dex, pokemon, type1, type2]\n",
       "Index: []"
      ]
     },
     "execution_count": 103,
     "metadata": {},
     "output_type": "execute_result"
    }
   ],
   "source": [
    "#We can perform a similar test for Alolan Pokemon, which I know \n",
    "# are excluded from the types table on Bulbapedia by reviewing the webpage.\n",
    "\n",
    "pkmn_alolan_types_df = pkmn_types_df[(pkmn_types_df.pokemon).str.contains(r'(alolan)')]\n",
    "\n",
    "#This table should be empty.\n",
    "pkmn_alolan_types_df"
   ]
  },
  {
   "cell_type": "markdown",
   "metadata": {},
   "source": [
    "In addition to the Mega Pokemon and Alolan Pokemon, there are additional irregularities in our data. You may recall when we looked at Wormadam in our pkmn_bst_stages_df and saw three listings; when we search for the same Pokemon in our pkmn_types_df, we do not see the same three listings.\n",
    "\n",
    "Below you can see that there are again three rows for Wormadam, but they do not have the additional forms (cloaks) listed behind them.\n",
    "\n",
    "This is the same case for Pokemon like Rotom (multiple forms with different typing) and for Pokemon like Lycanrock (multiple forms with the same typing)."
   ]
  },
  {
   "cell_type": "code",
   "execution_count": null,
   "metadata": {},
   "outputs": [],
   "source": [
    "pkmn_bst_stages_df[477:482]"
   ]
  },
  {
   "cell_type": "code",
   "execution_count": null,
   "metadata": {},
   "outputs": [],
   "source": [
    "pkmn_types_df[411:416]"
   ]
  },
  {
   "cell_type": "code",
   "execution_count": 104,
   "metadata": {},
   "outputs": [
    {
     "data": {
      "text/html": [
       "<div>\n",
       "<style scoped>\n",
       "    .dataframe tbody tr th:only-of-type {\n",
       "        vertical-align: middle;\n",
       "    }\n",
       "\n",
       "    .dataframe tbody tr th {\n",
       "        vertical-align: top;\n",
       "    }\n",
       "\n",
       "    .dataframe thead th {\n",
       "        text-align: right;\n",
       "    }\n",
       "</style>\n",
       "<table border=\"1\" class=\"dataframe\">\n",
       "  <thead>\n",
       "    <tr style=\"text-align: right;\">\n",
       "      <th></th>\n",
       "      <th>bulb_index</th>\n",
       "      <th>nat_dex</th>\n",
       "      <th>pokemon</th>\n",
       "      <th>type1</th>\n",
       "      <th>type2</th>\n",
       "    </tr>\n",
       "  </thead>\n",
       "  <tbody>\n",
       "    <tr>\n",
       "      <th>413</th>\n",
       "      <td>19d</td>\n",
       "      <td>413</td>\n",
       "      <td>wormadam</td>\n",
       "      <td>bug</td>\n",
       "      <td>grass</td>\n",
       "    </tr>\n",
       "    <tr>\n",
       "      <th>414</th>\n",
       "      <td>19d</td>\n",
       "      <td>413</td>\n",
       "      <td>wormadam</td>\n",
       "      <td>bug</td>\n",
       "      <td>ground</td>\n",
       "    </tr>\n",
       "    <tr>\n",
       "      <th>415</th>\n",
       "      <td>19d</td>\n",
       "      <td>413</td>\n",
       "      <td>wormadam</td>\n",
       "      <td>bug</td>\n",
       "      <td>steel</td>\n",
       "    </tr>\n",
       "    <tr>\n",
       "      <th>481</th>\n",
       "      <td>1df</td>\n",
       "      <td>479</td>\n",
       "      <td>rotom</td>\n",
       "      <td>electric</td>\n",
       "      <td>ghost</td>\n",
       "    </tr>\n",
       "    <tr>\n",
       "      <th>482</th>\n",
       "      <td>1df</td>\n",
       "      <td>479</td>\n",
       "      <td>rotom</td>\n",
       "      <td>electric</td>\n",
       "      <td>fire</td>\n",
       "    </tr>\n",
       "    <tr>\n",
       "      <th>483</th>\n",
       "      <td>1df</td>\n",
       "      <td>479</td>\n",
       "      <td>rotom</td>\n",
       "      <td>electric</td>\n",
       "      <td>water</td>\n",
       "    </tr>\n",
       "    <tr>\n",
       "      <th>484</th>\n",
       "      <td>1df</td>\n",
       "      <td>479</td>\n",
       "      <td>rotom</td>\n",
       "      <td>electric</td>\n",
       "      <td>ice</td>\n",
       "    </tr>\n",
       "    <tr>\n",
       "      <th>485</th>\n",
       "      <td>1df</td>\n",
       "      <td>479</td>\n",
       "      <td>rotom</td>\n",
       "      <td>electric</td>\n",
       "      <td>flying</td>\n",
       "    </tr>\n",
       "    <tr>\n",
       "      <th>486</th>\n",
       "      <td>1df</td>\n",
       "      <td>479</td>\n",
       "      <td>rotom</td>\n",
       "      <td>electric</td>\n",
       "      <td>grass</td>\n",
       "    </tr>\n",
       "    <tr>\n",
       "      <th>499</th>\n",
       "      <td>1ec</td>\n",
       "      <td>492</td>\n",
       "      <td>shaymin</td>\n",
       "      <td>grass</td>\n",
       "      <td>grass</td>\n",
       "    </tr>\n",
       "    <tr>\n",
       "      <th>500</th>\n",
       "      <td>1ec</td>\n",
       "      <td>492</td>\n",
       "      <td>shaymin</td>\n",
       "      <td>grass</td>\n",
       "      <td>flying</td>\n",
       "    </tr>\n",
       "    <tr>\n",
       "      <th>563</th>\n",
       "      <td>22b</td>\n",
       "      <td>555</td>\n",
       "      <td>darmanitan</td>\n",
       "      <td>fire</td>\n",
       "      <td>fire</td>\n",
       "    </tr>\n",
       "    <tr>\n",
       "      <th>564</th>\n",
       "      <td>22b</td>\n",
       "      <td>555</td>\n",
       "      <td>darmanitan</td>\n",
       "      <td>fire</td>\n",
       "      <td>psychic</td>\n",
       "    </tr>\n",
       "    <tr>\n",
       "      <th>657</th>\n",
       "      <td>288</td>\n",
       "      <td>648</td>\n",
       "      <td>meloetta</td>\n",
       "      <td>normal</td>\n",
       "      <td>psychic</td>\n",
       "    </tr>\n",
       "    <tr>\n",
       "      <th>658</th>\n",
       "      <td>288</td>\n",
       "      <td>648</td>\n",
       "      <td>meloetta</td>\n",
       "      <td>normal</td>\n",
       "      <td>fighting</td>\n",
       "    </tr>\n",
       "  </tbody>\n",
       "</table>\n",
       "</div>"
      ],
      "text/plain": [
       "0   bulb_index nat_dex     pokemon     type1     type2\n",
       "413        19d     413    wormadam       bug     grass\n",
       "414        19d     413    wormadam       bug    ground\n",
       "415        19d     413    wormadam       bug     steel\n",
       "481        1df     479       rotom  electric     ghost\n",
       "482        1df     479       rotom  electric      fire\n",
       "483        1df     479       rotom  electric     water\n",
       "484        1df     479       rotom  electric       ice\n",
       "485        1df     479       rotom  electric    flying\n",
       "486        1df     479       rotom  electric     grass\n",
       "499        1ec     492     shaymin     grass     grass\n",
       "500        1ec     492     shaymin     grass    flying\n",
       "563        22b     555  darmanitan      fire      fire\n",
       "564        22b     555  darmanitan      fire   psychic\n",
       "657        288     648    meloetta    normal   psychic\n",
       "658        288     648    meloetta    normal  fighting"
      ]
     },
     "execution_count": 104,
     "metadata": {},
     "output_type": "execute_result"
    }
   ],
   "source": [
    "#Selecting all rows from our pkmn_types_df with duplicate values in the column Pokemon.\n",
    "pkmn_names = pkmn_types_df['pokemon']\n",
    "\n",
    "pkmn_duplicated_types_df = pkmn_types_df[pkmn_names.isin(pkmn_names[pkmn_names.duplicated()])]\n",
    "\n",
    "pkmn_duplicated_types_df"
   ]
  },
  {
   "cell_type": "markdown",
   "metadata": {},
   "source": [
    "The new pkmn_duplicated_types_df shows us a couple of interesting things:\n",
    "\n",
    "* Not all legendary forms are listed in multiple - Only Shaymin and Meloetta appear here. You can compare this to the Unova Genies (pkmn_bst_stages_df[721:731]).\n",
    "\n",
    "* There are some pokemon that are duplicated in the pkmn_bst_types_df that have the same typing between their forms (Wishiwashi, Lycanrock, etc).\n",
    "\n",
    "In both these cases, we do not need to worry. All legendary Pokemon will be filtered out of the dataset prior to joining in our types and for pokemon that share typing between their forms, we only need one value in our pkmn_types_df to join into our pkmn_bst_stages_df.\n",
    "\n",
    "The difficult outliers in the data set are pokemon that have type differences between their forms: Wormadam, Rotom, and Darmanitan. In order to make sure they are properly recorded, I will update the pkmn_types_df to have their names shown as they are in the pkmn_bst_stages_df - with their forms listed in parentheses."
   ]
  },
  {
   "cell_type": "code",
   "execution_count": 105,
   "metadata": {},
   "outputs": [],
   "source": [
    "#create a dataframe for Pokemon with different typing between forms\n",
    "pkmn_forms_types_df = pd.DataFrame([[413, 'wormadam (plant cloak)', 'bug', 'grass'],\n",
    "                                   [413, 'wormadam (sandy cloak)', 'bug', 'ground'],\n",
    "                                   [413, 'wormadam (trash cloak)', 'bug', 'steel'],\n",
    "                                    [479, 'rotom (heat rotom)', 'electric', 'fire'],\n",
    "                                    [479, 'rotom (wash rotom)', 'electric', 'water'],\n",
    "                                    [479, 'rotom (frost rotom)', 'electric', 'ice'],\n",
    "                                    [479, 'rotom (fan rotom)', 'electric', 'flying'],\n",
    "                                    [479, 'rotom (mow rotom)', 'electric', 'grass'],\n",
    "                                    [555, 'darmanitan (standard mode)', 'fire', 'fire'],\n",
    "                                    [555, 'darmanitan (zen mode)', 'fire', 'psychic'],\n",
    "                                    [681, 'aegislash (shield forme)', 'steel', 'ghost'],\n",
    "                                    [681, 'aegislash (blade forme)', 'steel', 'ghost'],\n",
    "                                    [745, 'lycanroc (midday form)', 'rock', 'rock'],\n",
    "                                    [745, 'lycanroc (midnight form)', 'rock', 'rock'],\n",
    "                                    [745, 'lycanroc (dusk form)', 'rock', 'rock'],\n",
    "                                    [746, 'wishiwashi (solo form)', 'water', 'water'],\n",
    "                                    [746, 'wishiwashi (school form)', 'water', 'water'],\n",
    "                                    [774, 'minior (meteor form)', 'rock', 'flying'],\n",
    "                                    [774, 'minior (core form)', 'rock', 'flying'],\n",
    "                                    [710, 'pumpkaboo (average size)', 'ghost', 'grass'],\n",
    "                                    [711, 'gourgeist (average size)', 'ghost', 'grass']\n",
    "                                   ], \n",
    "                                   columns=['nat_dex','pokemon','type1','type2'])"
   ]
  },
  {
   "cell_type": "code",
   "execution_count": 106,
   "metadata": {},
   "outputs": [],
   "source": [
    "#create a dataframe for Alolan Variant Pokemon\n",
    "alolan_types_df = pd.DataFrame([[19, 'rattata (alolan rattata)', 'dark', 'normal'], \n",
    "                              [20, 'raticate (alolan raticate)', 'dark', 'normal'], \n",
    "                              [26, 'raichu (alolan raichu)', 'electric', 'psychic'],\n",
    "                              [27, 'sandshrew (alolan sandshrew)', 'ice', 'steel'],\n",
    "                              [28, 'sandslash (alolan sandslash)', 'ice', 'steel'],\n",
    "                              [37, 'vulpix (alolan vulpix)', 'ice', 'ice'],\n",
    "                              [38, 'ninetales (alolan ninetales)', 'ice', 'fairy'],\n",
    "                              [50, 'diglett (alolan diglett)', 'ground', 'steel'],\n",
    "                              [51, 'dugtrio (alolan dugtrio)', 'ground', 'steel'],\n",
    "                              [52, 'meowth (alolan meowth)', 'dark', 'dark'],\n",
    "                              [53, 'persian (alolan persian)', 'dark', 'dark'],\n",
    "                              [74, 'geodude (alolan geodude)', 'rock', 'electric'],\n",
    "                              [75, 'graveler (alolan graveler)', 'rock', 'electric'],\n",
    "                              [76, 'golem (alolan golem)', 'rock', 'electric'],\n",
    "                              [88, 'grimer (alolan grimer)', 'poison', 'dark'],\n",
    "                              [89, 'muk (alolan muk)', 'poison', 'dark'],\n",
    "                              [103, 'exeggutor (alolan exeggutor)', 'grass', 'dragon'],\n",
    "                              [105, 'marowak (alolan marowak)', 'fire', 'ghost']],\n",
    "                              columns=['nat_dex','pokemon','type1','type2'])"
   ]
  },
  {
   "cell_type": "code",
   "execution_count": 107,
   "metadata": {},
   "outputs": [],
   "source": [
    "pkmn_types_df_2 = pkmn_types_df.append(pkmn_forms_types_df, ignore_index=True, sort=False)"
   ]
  },
  {
   "cell_type": "code",
   "execution_count": 108,
   "metadata": {},
   "outputs": [],
   "source": [
    "pkmn_types_df_3 = pkmn_types_df_2.append(alolan_types_df,ignore_index=True, sort=False)"
   ]
  },
  {
   "cell_type": "code",
   "execution_count": null,
   "metadata": {},
   "outputs": [],
   "source": [
    "pkmn_types_df_3.shape"
   ]
  },
  {
   "cell_type": "markdown",
   "metadata": {},
   "source": [
    "#### Final Merge of Dataframes"
   ]
  },
  {
   "cell_type": "markdown",
   "metadata": {},
   "source": [
    "Now I am going to merge in our type data to the BST and stages data - there will not be a  perfect 1:1 match, but I will look at the non-matches to confirm that no necessary data was missed.\n",
    "\n",
    "(It is expected that Mega Pokemon and some Legendary Pokemon will not have a match from the pkmn_types_df_3.)"
   ]
  },
  {
   "cell_type": "code",
   "execution_count": 109,
   "metadata": {},
   "outputs": [],
   "source": [
    "pkmn_full_df = pd.merge(pkmn_bst_stages_df, pkmn_types_df_3, how='left', left_on='pokemon', right_on='pokemon')"
   ]
  },
  {
   "cell_type": "code",
   "execution_count": null,
   "metadata": {},
   "outputs": [],
   "source": [
    "#Notice how Mega Venusaur (4th row) has NaN values for its types.\n",
    "\n",
    "pkmn_full_df.head()"
   ]
  },
  {
   "cell_type": "code",
   "execution_count": null,
   "metadata": {},
   "outputs": [],
   "source": [
    "#Notice how all of the Wormadam forms have values for their types.\n",
    "\n",
    "pkmn_full_df[474:484]"
   ]
  },
  {
   "cell_type": "code",
   "execution_count": 110,
   "metadata": {},
   "outputs": [],
   "source": [
    "#Filter Out Legendary, Mega, and Ultra Beasts\n",
    "pkmn_legendary_df = pkmn_full_df[(pkmn_full_df.stage == 'legendary') & (pkmn_full_df.stage == 'ultra beast') & (pkmn_full_df.stage == 'mega')]\n",
    "\n",
    "pkmn_charting_df = pkmn_full_df[(pkmn_full_df.stage != 'legendary') & (pkmn_full_df.stage != 'ultra beast') & (pkmn_full_df.stage != 'mega')]"
   ]
  },
  {
   "cell_type": "code",
   "execution_count": 111,
   "metadata": {},
   "outputs": [
    {
     "data": {
      "text/html": [
       "<div>\n",
       "<style scoped>\n",
       "    .dataframe tbody tr th:only-of-type {\n",
       "        vertical-align: middle;\n",
       "    }\n",
       "\n",
       "    .dataframe tbody tr th {\n",
       "        vertical-align: top;\n",
       "    }\n",
       "\n",
       "    .dataframe thead th {\n",
       "        text-align: right;\n",
       "    }\n",
       "</style>\n",
       "<table border=\"1\" class=\"dataframe\">\n",
       "  <thead>\n",
       "    <tr style=\"text-align: right;\">\n",
       "      <th></th>\n",
       "      <th>#</th>\n",
       "      <th>pokemon</th>\n",
       "      <th>hp</th>\n",
       "      <th>attack</th>\n",
       "      <th>defense</th>\n",
       "      <th>sp. attack</th>\n",
       "      <th>sp. defense</th>\n",
       "      <th>speed</th>\n",
       "      <th>total</th>\n",
       "      <th>average</th>\n",
       "      <th>dex #</th>\n",
       "      <th>stage</th>\n",
       "      <th>bulb_index</th>\n",
       "      <th>nat_dex</th>\n",
       "      <th>type1</th>\n",
       "      <th>type2</th>\n",
       "    </tr>\n",
       "  </thead>\n",
       "  <tbody>\n",
       "    <tr>\n",
       "      <th>0</th>\n",
       "      <td>001</td>\n",
       "      <td>bulbasaur</td>\n",
       "      <td>45</td>\n",
       "      <td>49</td>\n",
       "      <td>49</td>\n",
       "      <td>65</td>\n",
       "      <td>65</td>\n",
       "      <td>45</td>\n",
       "      <td>318</td>\n",
       "      <td>53</td>\n",
       "      <td>1</td>\n",
       "      <td>basic</td>\n",
       "      <td>001</td>\n",
       "      <td>001</td>\n",
       "      <td>grass</td>\n",
       "      <td>poison</td>\n",
       "    </tr>\n",
       "    <tr>\n",
       "      <th>1</th>\n",
       "      <td>002</td>\n",
       "      <td>ivysaur</td>\n",
       "      <td>60</td>\n",
       "      <td>62</td>\n",
       "      <td>63</td>\n",
       "      <td>80</td>\n",
       "      <td>80</td>\n",
       "      <td>60</td>\n",
       "      <td>405</td>\n",
       "      <td>67.5</td>\n",
       "      <td>2</td>\n",
       "      <td>stage 1</td>\n",
       "      <td>002</td>\n",
       "      <td>002</td>\n",
       "      <td>grass</td>\n",
       "      <td>poison</td>\n",
       "    </tr>\n",
       "    <tr>\n",
       "      <th>2</th>\n",
       "      <td>003</td>\n",
       "      <td>venusaur</td>\n",
       "      <td>80</td>\n",
       "      <td>82</td>\n",
       "      <td>83</td>\n",
       "      <td>100</td>\n",
       "      <td>100</td>\n",
       "      <td>80</td>\n",
       "      <td>525</td>\n",
       "      <td>87.5</td>\n",
       "      <td>3</td>\n",
       "      <td>stage 2</td>\n",
       "      <td>003</td>\n",
       "      <td>003</td>\n",
       "      <td>grass</td>\n",
       "      <td>poison</td>\n",
       "    </tr>\n",
       "    <tr>\n",
       "      <th>4</th>\n",
       "      <td>004</td>\n",
       "      <td>charmander</td>\n",
       "      <td>39</td>\n",
       "      <td>52</td>\n",
       "      <td>43</td>\n",
       "      <td>60</td>\n",
       "      <td>50</td>\n",
       "      <td>65</td>\n",
       "      <td>309</td>\n",
       "      <td>51.5</td>\n",
       "      <td>4</td>\n",
       "      <td>basic</td>\n",
       "      <td>004</td>\n",
       "      <td>004</td>\n",
       "      <td>fire</td>\n",
       "      <td>fire</td>\n",
       "    </tr>\n",
       "    <tr>\n",
       "      <th>5</th>\n",
       "      <td>005</td>\n",
       "      <td>charmeleon</td>\n",
       "      <td>58</td>\n",
       "      <td>64</td>\n",
       "      <td>58</td>\n",
       "      <td>80</td>\n",
       "      <td>65</td>\n",
       "      <td>80</td>\n",
       "      <td>405</td>\n",
       "      <td>67.5</td>\n",
       "      <td>5</td>\n",
       "      <td>stage 1</td>\n",
       "      <td>005</td>\n",
       "      <td>005</td>\n",
       "      <td>fire</td>\n",
       "      <td>fire</td>\n",
       "    </tr>\n",
       "  </tbody>\n",
       "</table>\n",
       "</div>"
      ],
      "text/plain": [
       "      #     pokemon  hp attack defense sp. attack sp. defense speed total  \\\n",
       "0   001   bulbasaur  45     49      49         65          65    45   318   \n",
       "1   002     ivysaur  60     62      63         80          80    60   405   \n",
       "2   003    venusaur  80     82      83        100         100    80   525   \n",
       "4   004  charmander  39     52      43         60          50    65   309   \n",
       "5   005  charmeleon  58     64      58         80          65    80   405   \n",
       "\n",
       "  average dex #    stage bulb_index nat_dex  type1   type2  \n",
       "0      53     1    basic        001     001  grass  poison  \n",
       "1    67.5     2  stage 1        002     002  grass  poison  \n",
       "2    87.5     3  stage 2        003     003  grass  poison  \n",
       "4    51.5     4    basic        004     004   fire    fire  \n",
       "5    67.5     5  stage 1        005     005   fire    fire  "
      ]
     },
     "execution_count": 111,
     "metadata": {},
     "output_type": "execute_result"
    }
   ],
   "source": [
    "pkmn_charting_df.head()"
   ]
  },
  {
   "cell_type": "markdown",
   "metadata": {},
   "source": [
    "#### Data Validation"
   ]
  },
  {
   "cell_type": "markdown",
   "metadata": {},
   "source": [
    "To confirm that I have got the data frame to accurately capture all of the data I want, I am going to run some tests to find NaN values in the type1 column."
   ]
  },
  {
   "cell_type": "code",
   "execution_count": 112,
   "metadata": {},
   "outputs": [
    {
     "data": {
      "text/plain": [
       "True"
      ]
     },
     "execution_count": 112,
     "metadata": {},
     "output_type": "execute_result"
    }
   ],
   "source": [
    "pkmn_charting_df['type1'].isnull().values.any()"
   ]
  },
  {
   "cell_type": "code",
   "execution_count": 113,
   "metadata": {},
   "outputs": [],
   "source": [
    "#create a new df with all NaN values in the type1 column (ie, any Pokemon not matched from the pkmn_types_df_3)\n",
    "errors_df = pkmn_charting_df[pkmn_charting_df.type1.isnull()]"
   ]
  },
  {
   "cell_type": "code",
   "execution_count": 114,
   "metadata": {},
   "outputs": [
    {
     "data": {
      "text/html": [
       "<div>\n",
       "<style scoped>\n",
       "    .dataframe tbody tr th:only-of-type {\n",
       "        vertical-align: middle;\n",
       "    }\n",
       "\n",
       "    .dataframe tbody tr th {\n",
       "        vertical-align: top;\n",
       "    }\n",
       "\n",
       "    .dataframe thead th {\n",
       "        text-align: right;\n",
       "    }\n",
       "</style>\n",
       "<table border=\"1\" class=\"dataframe\">\n",
       "  <thead>\n",
       "    <tr style=\"text-align: right;\">\n",
       "      <th></th>\n",
       "      <th>#</th>\n",
       "      <th>pokemon</th>\n",
       "      <th>hp</th>\n",
       "      <th>attack</th>\n",
       "      <th>defense</th>\n",
       "      <th>sp. attack</th>\n",
       "      <th>sp. defense</th>\n",
       "      <th>speed</th>\n",
       "      <th>total</th>\n",
       "      <th>average</th>\n",
       "      <th>dex #</th>\n",
       "      <th>stage</th>\n",
       "      <th>bulb_index</th>\n",
       "      <th>nat_dex</th>\n",
       "      <th>type1</th>\n",
       "      <th>type2</th>\n",
       "    </tr>\n",
       "  </thead>\n",
       "  <tbody>\n",
       "    <tr>\n",
       "      <th>33</th>\n",
       "      <td>025</td>\n",
       "      <td>pikachu (partner pikachu)</td>\n",
       "      <td>45</td>\n",
       "      <td>80</td>\n",
       "      <td>50</td>\n",
       "      <td>75</td>\n",
       "      <td>60</td>\n",
       "      <td>120</td>\n",
       "      <td>430</td>\n",
       "      <td>71.67</td>\n",
       "      <td>25</td>\n",
       "      <td>basic</td>\n",
       "      <td>NaN</td>\n",
       "      <td>NaN</td>\n",
       "      <td>NaN</td>\n",
       "      <td>NaN</td>\n",
       "    </tr>\n",
       "    <tr>\n",
       "      <th>164</th>\n",
       "      <td>133</td>\n",
       "      <td>eevee (partner eevee)</td>\n",
       "      <td>65</td>\n",
       "      <td>75</td>\n",
       "      <td>70</td>\n",
       "      <td>65</td>\n",
       "      <td>85</td>\n",
       "      <td>75</td>\n",
       "      <td>435</td>\n",
       "      <td>72.5</td>\n",
       "      <td>133</td>\n",
       "      <td>basic</td>\n",
       "      <td>NaN</td>\n",
       "      <td>NaN</td>\n",
       "      <td>NaN</td>\n",
       "      <td>NaN</td>\n",
       "    </tr>\n",
       "    <tr>\n",
       "      <th>751</th>\n",
       "      <td>658</td>\n",
       "      <td>greninja (ash-greninja)</td>\n",
       "      <td>72</td>\n",
       "      <td>145</td>\n",
       "      <td>67</td>\n",
       "      <td>153</td>\n",
       "      <td>71</td>\n",
       "      <td>132</td>\n",
       "      <td>640</td>\n",
       "      <td>106.67</td>\n",
       "      <td>658</td>\n",
       "      <td>stage 2</td>\n",
       "      <td>NaN</td>\n",
       "      <td>NaN</td>\n",
       "      <td>NaN</td>\n",
       "      <td>NaN</td>\n",
       "    </tr>\n",
       "    <tr>\n",
       "      <th>804</th>\n",
       "      <td>710</td>\n",
       "      <td>pumpkaboo (small size)</td>\n",
       "      <td>44</td>\n",
       "      <td>66</td>\n",
       "      <td>70</td>\n",
       "      <td>44</td>\n",
       "      <td>55</td>\n",
       "      <td>56</td>\n",
       "      <td>335</td>\n",
       "      <td>55.83</td>\n",
       "      <td>710</td>\n",
       "      <td>basic</td>\n",
       "      <td>NaN</td>\n",
       "      <td>NaN</td>\n",
       "      <td>NaN</td>\n",
       "      <td>NaN</td>\n",
       "    </tr>\n",
       "    <tr>\n",
       "      <th>806</th>\n",
       "      <td>710</td>\n",
       "      <td>pumpkaboo (large size)</td>\n",
       "      <td>54</td>\n",
       "      <td>66</td>\n",
       "      <td>70</td>\n",
       "      <td>44</td>\n",
       "      <td>55</td>\n",
       "      <td>46</td>\n",
       "      <td>335</td>\n",
       "      <td>55.83</td>\n",
       "      <td>710</td>\n",
       "      <td>basic</td>\n",
       "      <td>NaN</td>\n",
       "      <td>NaN</td>\n",
       "      <td>NaN</td>\n",
       "      <td>NaN</td>\n",
       "    </tr>\n",
       "    <tr>\n",
       "      <th>807</th>\n",
       "      <td>710</td>\n",
       "      <td>pumpkaboo (super size)</td>\n",
       "      <td>59</td>\n",
       "      <td>66</td>\n",
       "      <td>70</td>\n",
       "      <td>44</td>\n",
       "      <td>55</td>\n",
       "      <td>41</td>\n",
       "      <td>335</td>\n",
       "      <td>55.83</td>\n",
       "      <td>710</td>\n",
       "      <td>basic</td>\n",
       "      <td>NaN</td>\n",
       "      <td>NaN</td>\n",
       "      <td>NaN</td>\n",
       "      <td>NaN</td>\n",
       "    </tr>\n",
       "    <tr>\n",
       "      <th>808</th>\n",
       "      <td>711</td>\n",
       "      <td>gourgeist (small size)</td>\n",
       "      <td>55</td>\n",
       "      <td>85</td>\n",
       "      <td>122</td>\n",
       "      <td>58</td>\n",
       "      <td>75</td>\n",
       "      <td>99</td>\n",
       "      <td>494</td>\n",
       "      <td>82.33</td>\n",
       "      <td>711</td>\n",
       "      <td>stage 1</td>\n",
       "      <td>NaN</td>\n",
       "      <td>NaN</td>\n",
       "      <td>NaN</td>\n",
       "      <td>NaN</td>\n",
       "    </tr>\n",
       "    <tr>\n",
       "      <th>810</th>\n",
       "      <td>711</td>\n",
       "      <td>gourgeist (large size)</td>\n",
       "      <td>75</td>\n",
       "      <td>95</td>\n",
       "      <td>122</td>\n",
       "      <td>58</td>\n",
       "      <td>75</td>\n",
       "      <td>69</td>\n",
       "      <td>494</td>\n",
       "      <td>82.33</td>\n",
       "      <td>711</td>\n",
       "      <td>stage 1</td>\n",
       "      <td>NaN</td>\n",
       "      <td>NaN</td>\n",
       "      <td>NaN</td>\n",
       "      <td>NaN</td>\n",
       "    </tr>\n",
       "    <tr>\n",
       "      <th>811</th>\n",
       "      <td>711</td>\n",
       "      <td>gourgeist (super size)</td>\n",
       "      <td>85</td>\n",
       "      <td>100</td>\n",
       "      <td>122</td>\n",
       "      <td>58</td>\n",
       "      <td>75</td>\n",
       "      <td>54</td>\n",
       "      <td>494</td>\n",
       "      <td>82.33</td>\n",
       "      <td>711</td>\n",
       "      <td>stage 1</td>\n",
       "      <td>NaN</td>\n",
       "      <td>NaN</td>\n",
       "      <td>NaN</td>\n",
       "      <td>NaN</td>\n",
       "    </tr>\n",
       "  </tbody>\n",
       "</table>\n",
       "</div>"
      ],
      "text/plain": [
       "        #                    pokemon  hp attack defense sp. attack  \\\n",
       "33    025  pikachu (partner pikachu)  45     80      50         75   \n",
       "164   133      eevee (partner eevee)  65     75      70         65   \n",
       "751   658    greninja (ash-greninja)  72    145      67        153   \n",
       "804   710     pumpkaboo (small size)  44     66      70         44   \n",
       "806   710     pumpkaboo (large size)  54     66      70         44   \n",
       "807   710     pumpkaboo (super size)  59     66      70         44   \n",
       "808   711     gourgeist (small size)  55     85     122         58   \n",
       "810   711     gourgeist (large size)  75     95     122         58   \n",
       "811   711     gourgeist (super size)  85    100     122         58   \n",
       "\n",
       "    sp. defense speed total average dex #    stage bulb_index nat_dex type1  \\\n",
       "33           60   120   430   71.67    25    basic        NaN     NaN   NaN   \n",
       "164          85    75   435    72.5   133    basic        NaN     NaN   NaN   \n",
       "751          71   132   640  106.67   658  stage 2        NaN     NaN   NaN   \n",
       "804          55    56   335   55.83   710    basic        NaN     NaN   NaN   \n",
       "806          55    46   335   55.83   710    basic        NaN     NaN   NaN   \n",
       "807          55    41   335   55.83   710    basic        NaN     NaN   NaN   \n",
       "808          75    99   494   82.33   711  stage 1        NaN     NaN   NaN   \n",
       "810          75    69   494   82.33   711  stage 1        NaN     NaN   NaN   \n",
       "811          75    54   494   82.33   711  stage 1        NaN     NaN   NaN   \n",
       "\n",
       "    type2  \n",
       "33    NaN  \n",
       "164   NaN  \n",
       "751   NaN  \n",
       "804   NaN  \n",
       "806   NaN  \n",
       "807   NaN  \n",
       "808   NaN  \n",
       "810   NaN  \n",
       "811   NaN  "
      ]
     },
     "execution_count": 114,
     "metadata": {},
     "output_type": "execute_result"
    }
   ],
   "source": [
    "errors_df"
   ]
  },
  {
   "cell_type": "markdown",
   "metadata": {},
   "source": [
    "From our errors_df, we can see that there are a total of 9 rows of data that were not matched between our pkmn_bst_stages_df and our pkmn_types_df_3.\n",
    "\n",
    "However, none of these are values that we want since they are either: Special Pokemon or are variants of pumpkaboo and gourgeist (which each have 4 different sizes; our data looks only at the average size)."
   ]
  },
  {
   "cell_type": "code",
   "execution_count": 115,
   "metadata": {},
   "outputs": [],
   "source": [
    "#filter out all rows where there is a null value in the type1 column.\n",
    "pkmn_charting_df_final = pkmn_charting_df[pd.notnull(pkmn_charting_df['type1'])]"
   ]
  },
  {
   "cell_type": "code",
   "execution_count": 116,
   "metadata": {},
   "outputs": [
    {
     "data": {
      "text/plain": [
       "False"
      ]
     },
     "execution_count": 116,
     "metadata": {},
     "output_type": "execute_result"
    }
   ],
   "source": [
    "#final check on null values in type1\n",
    "pkmn_charting_df_final['type1'].isnull().values.any()"
   ]
  },
  {
   "cell_type": "code",
   "execution_count": 117,
   "metadata": {},
   "outputs": [],
   "source": [
    "#remove redundant columns\n",
    "pkmn_charting_df_final = pkmn_charting_df_final.drop(columns = ['dex #', 'bulb_index', 'nat_dex'])"
   ]
  },
  {
   "cell_type": "markdown",
   "metadata": {},
   "source": [
    "## Generating Charts from Our Data"
   ]
  },
  {
   "cell_type": "markdown",
   "metadata": {},
   "source": [
    "Having cleaned our data into the form we want to use, I will now generate a series of charts to explore that data.\n",
    "\n",
    "* chart 1 desc\n",
    "\n",
    "* chart 2 desc\n",
    "\n",
    "* etc"
   ]
  },
  {
   "cell_type": "code",
   "execution_count": 118,
   "metadata": {},
   "outputs": [],
   "source": [
    "heatmap_df = pkmn_charting_df_final.drop(columns= ['hp', 'attack', 'defense', 'sp. attack', 'sp. defense', 'speed', 'total', 'average', 'stage'])"
   ]
  },
  {
   "cell_type": "code",
   "execution_count": null,
   "metadata": {},
   "outputs": [],
   "source": [
    "heatmap_df.head()"
   ]
  },
  {
   "cell_type": "code",
   "execution_count": 119,
   "metadata": {},
   "outputs": [],
   "source": [
    "grouped_heatmap_df = heatmap_df.groupby(['type1', 'type2']).count()"
   ]
  },
  {
   "cell_type": "code",
   "execution_count": null,
   "metadata": {},
   "outputs": [],
   "source": [
    "grouped_heatmap_df"
   ]
  },
  {
   "cell_type": "code",
   "execution_count": 121,
   "metadata": {},
   "outputs": [],
   "source": [
    "pivoted_heatmap_df = grouped_heatmap_df.pivot_table(values = 'pokemon', index = 'type1', columns = 'type2')"
   ]
  },
  {
   "cell_type": "code",
   "execution_count": 133,
   "metadata": {},
   "outputs": [],
   "source": [
    "heatmap_palette = sns.color_palette('PuBuGn')"
   ]
  },
  {
   "cell_type": "code",
   "execution_count": 155,
   "metadata": {},
   "outputs": [
    {
     "data": {
      "image/png": "[encoded data removed]",
      "text/plain": [
       "<Figure size 432x288 with 2 Axes>"
      ]
     },
     "metadata": {},
     "output_type": "display_data"
    }
   ],
   "source": [
    "with sns.axes_style('white'):\n",
    "    ax = sns.heatmap(pivoted_heatmap_df, cmap = heatmap_palette, annot = True, linewidths = 0.5, mask = pivoted_heatmap_df.isnull())\n",
    "    ax.set_title('Pokemon Type Distribution')"
   ]
  },
  {
   "cell_type": "code",
   "execution_count": 135,
   "metadata": {},
   "outputs": [],
   "source": [
    "bst_by_evo_stage_df = pkmn_charting_df_final.drop(columns = ['hp', 'attack', 'defense', 'sp. attack', 'sp. defense', 'speed', 'average'])"
   ]
  },
  {
   "cell_type": "code",
   "execution_count": 139,
   "metadata": {},
   "outputs": [],
   "source": [
    "bst_by_evo_stage_df.total = bst_by_evo_stage_df.total.astype('int64')"
   ]
  },
  {
   "cell_type": "code",
   "execution_count": 148,
   "metadata": {},
   "outputs": [],
   "source": [
    "sns.set_context('notebook')"
   ]
  },
  {
   "cell_type": "code",
   "execution_count": 158,
   "metadata": {},
   "outputs": [
    {
     "data": {
      "text/plain": [
       "Text(0.5, 0.98, 'BST distribution by Primary Type and Stage')"
      ]
     },
     "execution_count": 158,
     "metadata": {},
     "output_type": "execute_result"
    },
    {
     "data": {
      "image/png": "[encoded data removed]",
      "text/plain": [
       "<Figure size 800.85x360 with 1 Axes>"
      ]
     },
     "metadata": {
      "needs_background": "light"
     },
     "output_type": "display_data"
    }
   ],
   "source": [
    "ax2 = sns.catplot(x = 'type1', y = 'total', hue = 'stage', data = bst_by_evo_stage_df, kind = 'bar', palette = 'muted', height = 5, aspect = 2)\n",
    "ax2.set_xticklabels(rotation = 30)\n",
    "ax2.fig.suptitle('BST distribution by Primary Type and Stage')"
   ]
  },
  {
   "cell_type": "code",
   "execution_count": 157,
   "metadata": {},
   "outputs": [
    {
     "data": {
      "text/plain": [
       "Text(0.5, 0.98, 'BST distribution by Secondary Type and Stage')"
      ]
     },
     "execution_count": 157,
     "metadata": {},
     "output_type": "execute_result"
    },
    {
     "data": {
      "image/png": "[encoded data removed]",
      "text/plain": [
       "<Figure size 800.85x360 with 1 Axes>"
      ]
     },
     "metadata": {
      "needs_background": "light"
     },
     "output_type": "display_data"
    }
   ],
   "source": [
    "ax3 = sns.catplot(x = 'type2', y = 'total', hue = 'stage', data = bst_by_evo_stage_df, kind = 'bar', palette = 'muted', height = 5, aspect = 2)\n",
    "ax3.set_xticklabels(rotation = 30)\n",
    "ax3.fig.suptitle('BST distribution by Secondary Type and Stage')"
   ]
  },
  {
   "cell_type": "code",
   "execution_count": null,
   "metadata": {},
   "outputs": [],
   "source": []
  },
  {
   "cell_type": "code",
   "execution_count": null,
   "metadata": {},
   "outputs": [],
   "source": []
  },
  {
   "cell_type": "markdown",
   "metadata": {},
   "source": [
    "# stuff above here is mostly final\n",
    "\n",
    "# stuff below here needs to be edited! (or deleted!)"
   ]
  },
  {
   "cell_type": "code",
   "execution_count": null,
   "metadata": {},
   "outputs": [],
   "source": [
    "#not sure if I need this/am using this!\n",
    "#Check back and remove if that is not the case!\n",
    "pkmn_bst_df[55:65].isin({'Pokémon':[]})"
   ]
  },
  {
   "cell_type": "code",
   "execution_count": null,
   "metadata": {},
   "outputs": [],
   "source": [
    "pkmn_bst_df[['Pokemon', 'Variant']] = pkmn_bst_df['Pokemon'].str.split('(',expand=True)"
   ]
  },
  {
   "cell_type": "code",
   "execution_count": null,
   "metadata": {},
   "outputs": [],
   "source": [
    "pkmn_bst_df.head()"
   ]
  },
  {
   "cell_type": "code",
   "execution_count": null,
   "metadata": {},
   "outputs": [],
   "source": [
    "def bulbapedia_form_finder(row):\n",
    "    if row['Variant'] == None:\n",
    "        value = row['Pokémon']\n",
    "    elif \"Mega\" in row['Variant']:\n",
    "        value = \"Mega\"\n",
    "    elif \"Alolan\" in row['Variant']:\n",
    "        value = \"Alolan \"+row['Pokémon']\n",
    "    elif \"Wormdam\" in row['Pokémon']:\n",
    "        value = row['Pokémon']+row['Variant'].str.split(' ')\n",
    "    else:\n",
    "        value = row['Pokémon']\n",
    "    return value"
   ]
  },
  {
   "cell_type": "code",
   "execution_count": null,
   "metadata": {},
   "outputs": [],
   "source": [
    "pkmn_bst_df['Updated_Name'] = pkmn_bst_df.apply(bulbapedia_form_finder, axis=1)"
   ]
  },
  {
   "cell_type": "code",
   "execution_count": null,
   "metadata": {},
   "outputs": [],
   "source": [
    "#clean all of the string data from trailing spaces introduced in the split above\n",
    "pkmn_bst_df['Updated_Name'] = pkmn_bst_df['Updated_Name'].str.strip()"
   ]
  },
  {
   "cell_type": "code",
   "execution_count": null,
   "metadata": {},
   "outputs": [],
   "source": [
    "pkmn_bst_df['Pokemon'] = pkmn_bst_df['Pokemon'].str.strip()"
   ]
  },
  {
   "cell_type": "code",
   "execution_count": null,
   "metadata": {},
   "outputs": [],
   "source": [
    "pkmn_bst_df.head()"
   ]
  },
  {
   "cell_type": "code",
   "execution_count": null,
   "metadata": {},
   "outputs": [],
   "source": [
    "pkmn_bst_df[60:69]"
   ]
  },
  {
   "cell_type": "code",
   "execution_count": null,
   "metadata": {},
   "outputs": [],
   "source": [
    "pkmn_bst_df.Updated_Name = pkmn_bst_df.Updated_Name.str.encode('utf-8')"
   ]
  },
  {
   "cell_type": "code",
   "execution_count": null,
   "metadata": {},
   "outputs": [],
   "source": [
    "pkmn_bst_df[60:69]"
   ]
  },
  {
   "cell_type": "code",
   "execution_count": null,
   "metadata": {},
   "outputs": [],
   "source": [
    "pkmn_bst_df[65:75].isin({'Updated_Name':['Meowth']})"
   ]
  },
  {
   "cell_type": "markdown",
   "metadata": {},
   "source": [
    "Because the second table we're using records all pokemon as only the base pokemon name, we will need a way to intuit the actual pokemon, including forms/regional variants, and match the correct typing.\n",
    "\n",
    "Should start by looking at the type table and limit to the rows where the nat_dex number is the same as the preceeding nat_dex number (same pokemon).\n",
    "\n",
    "Will have to know the order and typing for each (Deoxys, Wormadam, Unova Genies)"
   ]
  },
  {
   "cell_type": "code",
   "execution_count": null,
   "metadata": {},
   "outputs": [],
   "source": [
    "#Second Table Download\n",
    "url_2 = 'https://bulbapedia.bulbagarden.net/wiki/List_of_Pok%C3%A9mon_by_index_number_(Generation_VII)'\n",
    "page_2 = requests.get(url_2)\n",
    "tree_2 = html.fromstring(page_2.content)"
   ]
  },
  {
   "cell_type": "code",
   "execution_count": null,
   "metadata": {},
   "outputs": [],
   "source": [
    "tr_elements_2 = tree_2.xpath('//tr')"
   ]
  },
  {
   "cell_type": "code",
   "execution_count": null,
   "metadata": {},
   "outputs": [],
   "source": [
    "#Checks for element length. Helps determine if you scraped more than one table.\n",
    "#[len(el) for el in tr_elements_2[:12]]\n",
    "#[len(el) for el in tr_elements_2[-12:-1]]"
   ]
  },
  {
   "cell_type": "code",
   "execution_count": null,
   "metadata": {},
   "outputs": [],
   "source": [
    "pkmn_type_table_rows = []\n",
    "\n",
    "for el in tr_elements_2:\n",
    "    if len(el) == 6:\n",
    "        row = el.text_content()\n",
    "        pkmn_type_table_rows.append(row)"
   ]
  },
  {
   "cell_type": "code",
   "execution_count": null,
   "metadata": {},
   "outputs": [],
   "source": [
    "#Currently, the type table does not have headers.\n",
    "#Have to put headers into the dataframe so that I can join data frames.\n",
    "#Create new list to concatenate with the data list prior to running the table cleaner function.\n",
    "#Make sure to use accented é character in  \"Pokémon\"\n",
    "pkmn_type_table_header = ['Bulb_Index,Nat_Dex,Pokémon,Type1,Type2']"
   ]
  },
  {
   "cell_type": "code",
   "execution_count": null,
   "metadata": {},
   "outputs": [],
   "source": [
    "pkmn_type_table_rows = pkmn_type_table_header+pkmn_type_table_rows"
   ]
  },
  {
   "cell_type": "code",
   "execution_count": null,
   "metadata": {},
   "outputs": [],
   "source": [
    "pkmn_type_df = bulbapedia_table_cleaner(pkmn_type_table_rows)"
   ]
  },
  {
   "cell_type": "code",
   "execution_count": null,
   "metadata": {},
   "outputs": [],
   "source": [
    "pkmn_type_df.head()"
   ]
  },
  {
   "cell_type": "code",
   "execution_count": null,
   "metadata": {},
   "outputs": [],
   "source": [
    "#Promote first row of df to headers\n",
    "header_row = pkmn_type_df.iloc[0]\n",
    "pkmn_type_df = pkmn_type_df[1:]\n",
    "pkmn_type_df.columns = header_row"
   ]
  },
  {
   "cell_type": "code",
   "execution_count": null,
   "metadata": {},
   "outputs": [],
   "source": [
    "pkmn_type_df.head()"
   ]
  },
  {
   "cell_type": "code",
   "execution_count": null,
   "metadata": {},
   "outputs": [],
   "source": [
    "pkmn_type_df[50:59]"
   ]
  },
  {
   "cell_type": "markdown",
   "metadata": {},
   "source": [
    "The pkmn_type_df does not have type data for Alolan variants of pokemon.\n",
    "\n",
    "I am not sure what the best solution is. I think it may be to specifically write/append the Alolan type data to the dataframe itself."
   ]
  },
  {
   "cell_type": "code",
   "execution_count": null,
   "metadata": {},
   "outputs": [],
   "source": [
    "alolan_type_df = pd.DataFrame([[19, 'Alolan Rattata', 'Dark', 'Normal'], \n",
    "                              [20, 'Alolan Raticate', 'Dark', 'Normal'], \n",
    "                              [26, 'Alolan Raichu', 'Electric', 'Psychic'],\n",
    "                              [27, 'Alolan Sandshrew', 'Ice', 'Steel'],\n",
    "                              [28, 'Alolan Sandslash', 'Ice', 'Steel'],\n",
    "                              [37, 'Alolan Vulpix', 'Ice', 'Ice'],\n",
    "                              [38, 'Alolan Ninetails', 'Ice', 'Fairy'],\n",
    "                              [50, 'Alolan Diglett', 'Ground', 'Steel'],\n",
    "                              [51, 'Alolan Dugtrio', 'Ground', 'Steel'],\n",
    "                              [52, 'Alolan Meowth', 'Dark', 'Dark'],\n",
    "                              [53, 'Alolan Persian', 'Dark', 'Dark'],\n",
    "                              [74, 'Alolan Geodude', 'Rock', 'Electric'],\n",
    "                              [75, 'Alolan Graveler', 'Rock', 'Electric'],\n",
    "                              [76, 'Alolan Golem', 'Rock', 'Electric'],\n",
    "                              [88, 'Alolan Grimer', 'Poison', 'Dark'],\n",
    "                              [89, 'Alolan Muk', 'Poison', 'Dark'],\n",
    "                              [103, 'Alolan Exeggutor', 'Grass', 'Dragon'],\n",
    "                              [105, 'Alolan Marowak', 'Fire', 'Ghost']],\n",
    "                              columns=['Nat_Dex','Pokémon','Type1','Type2'])"
   ]
  },
  {
   "cell_type": "code",
   "execution_count": null,
   "metadata": {},
   "outputs": [],
   "source": [
    "new_pkmn_type_df = pkmn_type_df.append(alolan_type_df, ignore_index=True, sort=False)"
   ]
  },
  {
   "cell_type": "code",
   "execution_count": null,
   "metadata": {},
   "outputs": [],
   "source": [
    "new_pkmn_type_df.Pokémon = new_pkmn_type_df.Pokémon.str.encode('utf-8')"
   ]
  },
  {
   "cell_type": "code",
   "execution_count": null,
   "metadata": {},
   "outputs": [],
   "source": [
    "new_pkmn_type_df.dtypes"
   ]
  },
  {
   "cell_type": "code",
   "execution_count": null,
   "metadata": {},
   "outputs": [],
   "source": [
    "new_pkmn_type_df"
   ]
  },
  {
   "cell_type": "code",
   "execution_count": null,
   "metadata": {},
   "outputs": [],
   "source": [
    "pkmn_full_df = pd.merge(pkmn_bst_df, new_pkmn_type_df, left_on='Updated_Name', right_on='Pokémon')"
   ]
  },
  {
   "cell_type": "code",
   "execution_count": null,
   "metadata": {},
   "outputs": [],
   "source": [
    "#pkmn_full_df = pkmn_bst_df.merge(new_pkmn_type_df, left_on='Updated_Name', right_on='Pokémon')"
   ]
  },
  {
   "cell_type": "code",
   "execution_count": null,
   "metadata": {},
   "outputs": [],
   "source": [
    "#pkmn_full_df = pd.merge(pkmn_bst_df, new_pkmn_type_df, left_on='Updated_Name', right_on='Pokémon')"
   ]
  },
  {
   "cell_type": "code",
   "execution_count": null,
   "metadata": {},
   "outputs": [],
   "source": [
    "#merge is only returning rows with matches.\n",
    "#Excludes Mega Pokemon (should be the correct thing to do).\n",
    "#However, need to check the dex numbers and see which columns were actually dex numbers and which were indexes.\n",
    "pkmn_full_df"
   ]
  },
  {
   "cell_type": "code",
   "execution_count": null,
   "metadata": {},
   "outputs": [],
   "source": [
    "pkmn_full_df[50:59]"
   ]
  },
  {
   "cell_type": "code",
   "execution_count": null,
   "metadata": {},
   "outputs": [],
   "source": [
    "pkmn_full_df.Pokémon_x = pkmn_full_df.Pokémon_x.str.encode('utf-8')"
   ]
  },
  {
   "cell_type": "code",
   "execution_count": null,
   "metadata": {},
   "outputs": [],
   "source": []
  },
  {
   "cell_type": "code",
   "execution_count": null,
   "metadata": {},
   "outputs": [],
   "source": [
    "pkmn_full_df[pkmn_full_df.Pokémon_y.isin([\"Alolan Diglett\"])]"
   ]
  },
  {
   "cell_type": "code",
   "execution_count": null,
   "metadata": {},
   "outputs": [],
   "source": [
    "pkmn_full_df.index"
   ]
  },
  {
   "cell_type": "code",
   "execution_count": null,
   "metadata": {},
   "outputs": [],
   "source": [
    "pkmn_full_df.Nat_Dex = pd.to_numeric(pkmn_full_df.Nat_Dex)"
   ]
  },
  {
   "cell_type": "code",
   "execution_count": null,
   "metadata": {},
   "outputs": [],
   "source": [
    "pkmn_full_df"
   ]
  },
  {
   "cell_type": "code",
   "execution_count": null,
   "metadata": {
    "scrolled": true
   },
   "outputs": [],
   "source": [
    "# at turtwig, index switches to being 2 behind (index = 385, Dex = 387)\n",
    "# at Burmy/Mothim (Nat_Dex = 412,414), index switches to being 3 behind (index = 411, Dex = 414)\n",
    "# by Drampa (Nat_Dex = 780), index is 14 behind (index = 766, Dex = 780)\n",
    "# Offset stays at 14 til end of pokemon. See Melmetal (index = 795, Dex = 809)\n",
    "pkmn_full_df.query('Nat_Dex != (index+1)')"
   ]
  },
  {
   "cell_type": "code",
   "execution_count": null,
   "metadata": {},
   "outputs": [],
   "source": [
    "pkmn_full_df[380:389]"
   ]
  },
  {
   "cell_type": "code",
   "execution_count": null,
   "metadata": {},
   "outputs": [],
   "source": [
    "#Error comes from the merging with special \"forme\" pokemon.\n",
    "#Deoxys is missing from the pkmn_full_df because it \n",
    "#is recorded as \"Deoxys (Normal Forme)\" in the bst_df and \"Deoxys\" in the type_df\n",
    "pkmn_bst_df[440:459]"
   ]
  },
  {
   "cell_type": "markdown",
   "metadata": {},
   "source": [
    "Comparing pokemon by type alone is not a good method for determining avevrage stats. Pokemon species go through the process of evolution to become stronger. Naturally, the higher a pokemon's evolutionary stage the higher its stats are.\n",
    "\n",
    "I could not find a satisfactory dataset of pokemon by their evolutionary stage, so I composed my own in .csv format. The stages used are: basic, stage 1, stage 2, baby, legendary, mega, and ultra beast."
   ]
  },
  {
   "cell_type": "code",
   "execution_count": null,
   "metadata": {},
   "outputs": [],
   "source": [
    "stages_raw = open(\"pokemon stages.csv\", \"r\")"
   ]
  },
  {
   "cell_type": "code",
   "execution_count": null,
   "metadata": {},
   "outputs": [],
   "source": [
    "stages_read = stages_raw.read()"
   ]
  },
  {
   "cell_type": "code",
   "execution_count": null,
   "metadata": {},
   "outputs": [],
   "source": [
    "stages_split = stages_read.split(\"\\n\")"
   ]
  },
  {
   "cell_type": "code",
   "execution_count": null,
   "metadata": {},
   "outputs": [],
   "source": [
    "stages_split"
   ]
  },
  {
   "cell_type": "code",
   "execution_count": null,
   "metadata": {},
   "outputs": [],
   "source": [
    "def makes_list_of_lists(input_lst):\n",
    "    output_list = []\n",
    "\n",
    "    for el in input_lst:\n",
    "        list_split = el.split(\",\")\n",
    "        output_list.append(list_split)\n",
    "    return output_list"
   ]
  },
  {
   "cell_type": "code",
   "execution_count": null,
   "metadata": {},
   "outputs": [],
   "source": [
    "pkmn_stages_data = makes_list_of_lists(stages_split)"
   ]
  },
  {
   "cell_type": "code",
   "execution_count": null,
   "metadata": {},
   "outputs": [],
   "source": [
    "pkmn_stages_df = pd.DataFrame(pkmn_stages_data)"
   ]
  },
  {
   "cell_type": "code",
   "execution_count": null,
   "metadata": {},
   "outputs": [],
   "source": [
    "pkmn_stages_df.head()"
   ]
  },
  {
   "cell_type": "code",
   "execution_count": null,
   "metadata": {},
   "outputs": [],
   "source": [
    "#Promote first row of df to headers\n",
    "header_row = pkmn_stages_df.iloc[0]\n",
    "pkmn_stages_df = pkmn_stages_df[1:]\n",
    "pkmn_stages_df.columns = header_row"
   ]
  },
  {
   "cell_type": "code",
   "execution_count": null,
   "metadata": {},
   "outputs": [],
   "source": [
    "pkmn_stages_df.dtypes"
   ]
  },
  {
   "cell_type": "code",
   "execution_count": null,
   "metadata": {},
   "outputs": [],
   "source": [
    "pkmn_stages_df.Pokemon = pkmn_stages_df.Pokemon.str.encode('utf-8')"
   ]
  },
  {
   "cell_type": "code",
   "execution_count": null,
   "metadata": {},
   "outputs": [],
   "source": [
    "pkmn_stages_df"
   ]
  },
  {
   "cell_type": "code",
   "execution_count": null,
   "metadata": {},
   "outputs": [],
   "source": [
    "pkmn_final_df = pd.merge(pkmn_full_df, pkmn_stages_df, how='left', left_on='Pokémon_x', right_on='Pokemon')"
   ]
  },
  {
   "cell_type": "code",
   "execution_count": null,
   "metadata": {},
   "outputs": [],
   "source": [
    "pkmn_final_df"
   ]
  },
  {
   "cell_type": "code",
   "execution_count": null,
   "metadata": {},
   "outputs": [],
   "source": [
    "pkmn_final_df[50:59]"
   ]
  },
  {
   "cell_type": "code",
   "execution_count": null,
   "metadata": {},
   "outputs": [],
   "source": [
    "not_legendary_df = pkmn_final_df[(pkmn_final_df.Stage != \"legendary\") & (pkmn_final_df.Stage != \"ultra beast\")]"
   ]
  },
  {
   "cell_type": "code",
   "execution_count": null,
   "metadata": {},
   "outputs": [],
   "source": [
    "not_legendary_df"
   ]
  },
  {
   "cell_type": "code",
   "execution_count": null,
   "metadata": {},
   "outputs": [],
   "source": [
    "not_legendary_df.drop(columns = ['Pokémon_x', 'Average', 'Variant', 'Bulb_Index', 'Pokémon_y', 'dex #', 'Pokemon'])"
   ]
  },
  {
   "cell_type": "code",
   "execution_count": null,
   "metadata": {},
   "outputs": [],
   "source": [
    "not_legendary_df.Total = pd.to_numeric(not_legendary_df.Total)"
   ]
  },
  {
   "cell_type": "code",
   "execution_count": null,
   "metadata": {},
   "outputs": [],
   "source": [
    "t1_stage_bst_mean_df = not_legendary_df.groupby(['Type1', 'Stage']).mean()"
   ]
  },
  {
   "cell_type": "code",
   "execution_count": null,
   "metadata": {},
   "outputs": [],
   "source": [
    "t1_stage_bst_mean_df "
   ]
  },
  {
   "cell_type": "code",
   "execution_count": null,
   "metadata": {},
   "outputs": [],
   "source": [
    "pivoted_df = t1_stage_bst_mean_df.pivot_table(values='Total', index='Type1', columns='Stage')"
   ]
  },
  {
   "cell_type": "code",
   "execution_count": null,
   "metadata": {},
   "outputs": [],
   "source": [
    "pivoted_df"
   ]
  },
  {
   "cell_type": "code",
   "execution_count": null,
   "metadata": {},
   "outputs": [],
   "source": [
    "pivoted_df.reset_index()"
   ]
  },
  {
   "cell_type": "code",
   "execution_count": null,
   "metadata": {},
   "outputs": [],
   "source": [
    "t1_stage_bst_mean_df.reset_index()"
   ]
  },
  {
   "cell_type": "code",
   "execution_count": null,
   "metadata": {},
   "outputs": [],
   "source": [
    "t1_stage_bst_mean_df.plot.bar(stacked=True)"
   ]
  },
  {
   "cell_type": "code",
   "execution_count": null,
   "metadata": {},
   "outputs": [],
   "source": [
    "pyplot.bar(x=t1_stage_bst_mean_df.Index[0:2],y=t1_stage_bst_mean_df.Total)"
   ]
  },
  {
   "cell_type": "markdown",
   "metadata": {},
   "source": [
    "Start of Nathan's actual work on plotting things.\n",
    "Don't mess with code above, that's not a good plot."
   ]
  },
  {
   "cell_type": "code",
   "execution_count": null,
   "metadata": {},
   "outputs": [],
   "source": [
    "#pyplot.figure(figsize=(5,5))\n",
    "#pyplot.bar(x=)"
   ]
  },
  {
   "cell_type": "code",
   "execution_count": null,
   "metadata": {},
   "outputs": [],
   "source": [
    "pivoted_df.plot(kind='bar', figsize=(12,10), title='Average BST distribution by Primary Type')"
   ]
  },
  {
   "cell_type": "code",
   "execution_count": null,
   "metadata": {},
   "outputs": [],
   "source": []
  }
 ],
 "metadata": {
  "kernelspec": {
   "display_name": "Python 3",
   "language": "python",
   "name": "python3"
  },
  "language_info": {
   "codemirror_mode": {
    "name": "ipython",
    "version": 3
   },
   "file_extension": ".py",
   "mimetype": "text/x-python",
   "name": "python",
   "nbconvert_exporter": "python",
   "pygments_lexer": "ipython3",
   "version": "3.7.1"
  }
 },
 "nbformat": 4,
 "nbformat_minor": 2
}
